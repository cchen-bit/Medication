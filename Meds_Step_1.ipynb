{
 "cells": [
  {
   "cell_type": "markdown",
   "id": "df06efb0-9cf3-4d27-9791-630b0382cfa3",
   "metadata": {
    "toc-hr-collapsed": true
   },
   "source": [
    "# **Medication Correction**\n",
    "\n",
    "## Step 1 - Medication Name Standardization and Preprocessing\n",
    "\n",
    "by Chen Chen (c.chen2@wustl.edu); David Brown (browndavid@wustl.edu)\n",
    "20250721"
   ]
  },
  {
   "cell_type": "markdown",
   "id": "5ccbbd9a-f80c-4b41-8bcb-2928d1879e6c",
   "metadata": {
    "tags": []
   },
   "source": [
    "# Import Libraries"
   ]
  },
  {
   "cell_type": "code",
   "execution_count": null,
   "id": "aad6656a-5412-4f4a-a9e0-bd4f929b6edb",
   "metadata": {
    "tags": []
   },
   "outputs": [],
   "source": [
    "# General\n",
    "import datetime\n",
    "import os\n",
    "from timeit import default_timer as timer\n",
    "\n",
    "# Data visualization\n",
    "import matplotlib.pyplot as plt\n",
    "\n",
    "# Data handling\n",
    "import numpy as np\n",
    "import pandas as pd\n",
    "\n",
    "# Drug recognition\n",
    "from drug_named_entity_recognition import find_drugs\n",
    "\n",
    "# Useful\n",
    "import ast\n",
    "import re\n",
    "import string"
   ]
  },
  {
   "cell_type": "code",
   "execution_count": null,
   "id": "aa0f6608-8a58-42ab-925f-6f7aaed7362d",
   "metadata": {},
   "outputs": [],
   "source": [
    "# Overall execution duration\n",
    "analysis_start = timer()"
   ]
  },
  {
   "cell_type": "markdown",
   "id": "1c52b86e-ad11-43f1-8322-71258e36950a",
   "metadata": {
    "tags": []
   },
   "source": [
    "# Input data"
   ]
  },
  {
   "cell_type": "code",
   "execution_count": null,
   "id": "e59516e6-6e30-4322-8414-c76c1cf84708",
   "metadata": {
    "tags": []
   },
   "outputs": [],
   "source": [
    "# find those medication names in redcap\n",
    "names = [f'med_name_{i}' for i in range(1, 21)]"
   ]
  },
  {
   "cell_type": "code",
   "execution_count": null,
   "id": "aa5779a3-4f4e-404a-80d7-8d949a186fe4",
   "metadata": {
    "tags": []
   },
   "outputs": [],
   "source": [
    "%%time\n",
    "fp_cwd = os.getcwd() + \"/\"\n",
    "# Input RedCap data and Jason/Kebade's dictionary\n",
    "input_data = pd.read_csv(fp_cwd + \"MotherDatabaseFULL10-WIPMedicationsFullDA_DATA_2025-02-03_1317.csv\", low_memory=False)\n",
    "input_meds_dic = pd.read_csv(fp_cwd + \"1107drugDictionary.csv\", low_memory=False)\n",
    "input_ahfs = pd.read_csv(fp_cwd + \"AHFS.csv\", low_memory=False)\n",
    "input_ahfs_un = pd.read_csv(fp_cwd + \"AHFS_drug.csv\", low_memory=False)\n",
    "manual_df = pd.read_csv(fp_cwd + \"manual_matched.csv\", low_memory=False)\n",
    "\n",
    "# Input OTC drugs, Vitamins, and Supplements\n",
    "arches_otc = pd.read_csv(fp_cwd + \"ARCHES_OTC_drugs.csv\", low_memory=False)\n",
    "arches_otc = arches_otc.rename(columns={'value_x': 'Name'})\n",
    "drives_vit_sup = pd.read_csv(fp_cwd + \"vitamins_supplements_manual_extract.csv\", low_memory=False)\n",
    "# Concat ARCHES OTC drugs and DRIVES manually extracted Vitamins and Supplements\n",
    "otc_vit_sup = pd.concat([arches_otc, drives_vit_sup], axis=0).drop_duplicates()\n",
    "otc_vit_sup['Name'] = otc_vit_sup['Name'].str.lower().str.strip()\n",
    "otc_vit_sup = otc_vit_sup.drop_duplicates()\n",
    "print(drives_vit_sup.shape)\n",
    "print(arches_otc.shape)\n",
    "print(otc_vit_sup.shape)"
   ]
  },
  {
   "cell_type": "markdown",
   "id": "c255cd86-802a-477c-b99c-c8ad58c33ead",
   "metadata": {
    "toc-hr-collapsed": true
   },
   "source": [
    "## Enforce REDCap dtypes"
   ]
  },
  {
   "cell_type": "code",
   "execution_count": null,
   "id": "d6ac6d44-d271-45b6-af54-8598a2a84d76",
   "metadata": {
    "tags": []
   },
   "outputs": [],
   "source": [
    "# Coerce dtypes\n",
    "for this_col in [i for i in input_data.columns if i not in ['map_id', 'otdate', 'nmedications', 'medications_complete']]:\n",
    "    input_data[this_col] = input_data[this_col].astype('string')\n",
    "    \n",
    "input_data['map_id'] = input_data['map_id'].astype('int64')\n",
    "input_data['nmedications'] = input_data['nmedications'].astype('Int64')\n",
    "input_data['medications_complete'] = input_data['medications_complete'].astype('Int64')\n",
    "input_data['otdate'] = input_data['otdate'].astype('string')"
   ]
  },
  {
   "cell_type": "code",
   "execution_count": null,
   "id": "ab047c1c-3645-4616-bb49-291f43e09bcb",
   "metadata": {},
   "outputs": [],
   "source": [
    "# Make a copy of medications input\n",
    "df_med = input_data.copy()"
   ]
  },
  {
   "cell_type": "code",
   "execution_count": null,
   "id": "13cabcc5-9c86-45a7-93bf-929db85e8e34",
   "metadata": {
    "tags": []
   },
   "outputs": [],
   "source": [
    "# Make a copy of input_meds_dic\n",
    "meds_dic = pd.DataFrame(input_meds_dic)\n",
    "\n",
    "# Clean expert dictionary\n",
    "for i in range(len(meds_dic)): \n",
    "    label = meds_dic.loc[i, 'mapped_drug_label']\n",
    "    \n",
    "    # Check if the string ends with 'd' followed by numbers and remove that part\n",
    "    if re.search(r'd\\d+$', label):\n",
    "        meds_dic.loc[i, 'mapped_drug_label'] = re.sub(r'd\\d+$', '', label).strip()"
   ]
  },
  {
   "cell_type": "code",
   "execution_count": null,
   "id": "49d0fe5c-3dc3-4641-8684-bbee63a53ac4",
   "metadata": {
    "tags": []
   },
   "outputs": [],
   "source": [
    "# Force the manual dataframe to use otdate\n",
    "manual_df = manual_df.drop(['RedCapMedName'], axis=1).merge(\n",
    "    df_med_lab,\n",
    "    how='left',\n",
    "    on=['map_id', 'redcap_event_name', 'Number']\n",
    ")\n",
    "\n",
    "# Sanity check\n",
    "print(manual_df.isna().sum())"
   ]
  },
  {
   "cell_type": "code",
   "execution_count": null,
   "id": "83b5fbc8-5898-4bd1-bba4-7ca0f60cb5cf",
   "metadata": {
    "tags": []
   },
   "outputs": [],
   "source": [
    "# Numbers of medications in dataframe\n",
    "print('Both', df_med.shape)"
   ]
  },
  {
   "cell_type": "code",
   "execution_count": null,
   "id": "4401d4e5-2842-4ccf-b660-0d9fa7ac02bb",
   "metadata": {
    "tags": []
   },
   "outputs": [],
   "source": [
    "df_med[['MedName']].nunique()"
   ]
  },
  {
   "cell_type": "code",
   "execution_count": null,
   "id": "c92dcebf-44c7-43de-b2af-d6444eb59819",
   "metadata": {
    "tags": []
   },
   "outputs": [],
   "source": [
    "print(len(meds_dic['raw_drug_label'])) # 2486\n",
    "print(len(list(set(meds_dic['raw_drug_label'].values.tolist())))) # 2474"
   ]
  },
  {
   "cell_type": "code",
   "execution_count": null,
   "id": "c6e24c71-e04e-48a0-aae3-0f1e9af85006",
   "metadata": {
    "tags": []
   },
   "outputs": [],
   "source": [
    "mydict = dict(zip(meds_dic.drop_duplicates().raw_drug_label, meds_dic.drop_duplicates().mapped_drug_label))"
   ]
  },
  {
   "cell_type": "markdown",
   "id": "82d8f277-5e35-4ef0-b200-7297717f74b2",
   "metadata": {
    "tags": [],
    "toc-hr-collapsed": true
   },
   "source": [
    "# Functions"
   ]
  },
  {
   "cell_type": "markdown",
   "id": "c308a4d2-6ee8-4303-80e7-f36ae3a93431",
   "metadata": {
    "tags": []
   },
   "source": [
    "## clean_format"
   ]
  },
  {
   "cell_type": "code",
   "execution_count": null,
   "id": "920c6ea7-9178-4cc9-8e08-8d0b7bb22363",
   "metadata": {
    "tags": []
   },
   "outputs": [],
   "source": [
    "# Transform the series to string, lower cases and remove pubctuation marks\n",
    "def clean_format(df):\n",
    "    #df['med_lower'] = df['RedCapMedName'].str.lower().str.strip() # Make it lower cases\n",
    "    df['med_lower'] = df['MedName'].str.lower().str.strip() # Make it lower cases\n",
    "    df['Reversed_Med'] =  df['med_lower'].str.translate(str.maketrans('', '', string.punctuation)) # Remove punctuation\n",
    "    return df"
   ]
  },
  {
   "cell_type": "markdown",
   "id": "a9d5353b-1be7-408e-92a5-165fc72710b1",
   "metadata": {
    "tags": []
   },
   "source": [
    "## Absolute match: db_my_matching_drug"
   ]
  },
  {
   "cell_type": "code",
   "execution_count": null,
   "id": "2b6f9c34-bd7c-42c8-bbae-2ebbb04cab24",
   "metadata": {
    "tags": []
   },
   "outputs": [],
   "source": [
    "# matching drugs through general matching\n",
    "def db_my_matching_drug(some_df, col):\n",
    "    \"\"\"\n",
    "    20241031 db\n",
    "    NOTE: find_drugs() returns a list of tuples, each tuple contains a dictionary, a token index, and another token index\n",
    "    [ (dict, int, int), (dict, int, int), (dict, int, int), ... ]\n",
    "    https://github.com/fastdatascience/drug_named_entity_recognition/blob/main/drug_named_entity_recognition_example_walkthrough.ipynb\n",
    "    https://github.com/fastdatascience/drug_named_entity_recognition/blob/c227765307a2e721ec5c7fa830aff37a1ebddb11/src/drug_named_entity_recognition/drugs_finder.py#L227\n",
    "    NOTE: as of 20241031, line 227 != line 239; potentially missing + 1\n",
    "    \n",
    "    find_drugs() always returns a list\n",
    "    \n",
    "    non-matchs are an empty list == list of length 0\n",
    "    \"\"\"\n",
    "    # Copy for safety\n",
    "    df = some_df.copy()\n",
    "    \n",
    "    # Create temporary list to store needed results\n",
    "    list_results = []\n",
    "    error_log_fzy = []\n",
    "    \n",
    "    # Iterate over dataframe\n",
    "    for i, row in df.iterrows():\n",
    "        \"\"\"\n",
    "        try:\n",
    "            # Capture tokens\n",
    "            tokens = row['Reversed_Med'].split(\" \") if isinstance( row['Reversed_Med'], str ) else []\n",
    "            # Call find_drugs() on tokens and append the result\n",
    "            list_results.append( find_drugs( tokens, is_ignore_case=True, is_fuzzy_match=True ) )\n",
    "        except Exception as e:\n",
    "            # Log the error and the input text (RedCapMed)\n",
    "            error_log_fzy.append({'value' : i, 'error': str(e), 'text': row['Reversed_Med']})\n",
    "            # error, pass empty list\n",
    "            list_results.append( [] )\n",
    "        \"\"\"\n",
    "        # Capture tokens\n",
    "        tokens = row[col].split(\" \") if isinstance( row[col], str ) else []\n",
    "        # Call find_drugs() on tokens and append the result\n",
    "        #list_results.append( find_drugs( tokens, is_ignore_case=True, is_fuzzy_match=True ) )\n",
    "        list_results.append( find_drugs( tokens, is_ignore_case=True ) )\n",
    "    \n",
    "    # Full results\n",
    "    df['Results']  = [\n",
    "        # find_drugs() always returns a list, if list is empty return a list with np.nan\n",
    "        [np.nan] if len(i) < 1 \\\n",
    "        # Access the 0th element (dict) of the jth tuple for all matched drugs on a given set of tokens \n",
    "        else [ i[j][0] for j in range(len(i)) ]\\\n",
    "        for i in list_results\n",
    "    ]\n",
    "    \n",
    "    # All drug names for all matches, if they exist\n",
    "    df['DrugName']  = [\n",
    "        # find_drugs() always returns a list, if list is empty return a list with np.nan\n",
    "        [np.nan] if len(i) < 1 \\\n",
    "        # If 'name' key exists, access the 0th element (dict) of the jth tuple from the result\n",
    "        else [ i[j][0]['name'] if 'name' in i[j][0].keys() \\\n",
    "            # Return np.nan if it does not exist\n",
    "            else np.nan for j in range(len(i)) ]\n",
    "        for i in list_results\n",
    "    ]\n",
    "    \n",
    "    # All drugbank IDs for all matches, if they exist\n",
    "    df['DrugbankId']  = [\n",
    "        # find_drugs() always returns a list, if list is empty return a list with np.nan\n",
    "        [np.nan] if len(i) < 1 \\\n",
    "        # If 'drugbank_id' key exists, access the 0th element (dict) of the jth tuple from the result\n",
    "        else [ i[j][0]['drugbank_id'] if 'drugbank_id' in i[j][0].keys() \\\n",
    "            # Return np.nan if it does not exist\n",
    "            else np.nan for j in range(len(i)) ]\n",
    "        for i in list_results\n",
    "    ]\n",
    "    \n",
    "    # All drugbank IDs for all matches, if they exist\n",
    "    df['Similarity']  = [\n",
    "        # find_drugs() always returns a list, if list is empty return a list with np.nan\n",
    "        [np.nan] if len(i) < 1 \\\n",
    "        # If 'match_similarity' key exists, access the 0th element (dict) of the jth tuple from the result\n",
    "        else [ i[j][0]['match_similarity'] if 'match_similarity' in i[j][0].keys() \\\n",
    "            # Return np.nan if it does not exist\n",
    "            else np.nan for j in range(len(i)) ]\n",
    "        for i in list_results\n",
    "    ]\n",
    "    \n",
    "    return(df)"
   ]
  },
  {
   "cell_type": "markdown",
   "id": "ce7cfc8a-7737-491e-958b-7343d3039f94",
   "metadata": {
    "tags": []
   },
   "source": [
    "## Fuzzy match: my_fuzzy_match"
   ]
  },
  {
   "cell_type": "code",
   "execution_count": null,
   "id": "793427c2-29dd-4413-8a2a-7fe82e25e244",
   "metadata": {
    "tags": []
   },
   "outputs": [],
   "source": [
    "def my_fuzzy_match(df, some_col):\n",
    "    df = df.copy()  # Avoid modifying the original DataFrame\n",
    "    list_results, error_log_fzy = [], []\n",
    "\n",
    "    # Process each row\n",
    "    for i, row in df.iterrows():\n",
    "        tokens = row[some_col].split(\" \") if isinstance(row[some_col], str) else []\n",
    "        \n",
    "        try:\n",
    "            # Get results from find_drugs or use a placeholder if empty\n",
    "            result = find_drugs(tokens, is_ignore_case=True, is_fuzzy_match=True) or \\\n",
    "                     [({'name': np.nan, 'Similarity': np.nan, 'drugbank_id': np.nan}, np.nan, np.nan)]\n",
    "            list_results.append(result)\n",
    "        except Exception as e:\n",
    "            error_log_fzy.append(f\"Row {i}: {e}\")\n",
    "            list_results.append([({'name': np.nan, 'match_similarity': np.nan, 'drugbank_id': np.nan}, np.nan, np.nan)])\n",
    "\n",
    "    # Extract fields from results\n",
    "    df['fzy_Results'] = list_results\n",
    "    df['DrugbankId'] = df['fzy_Results'].apply(lambda x: [item[0].get('drugbank_id', np.nan) for item in x])\n",
    "    df['DrugName'] = df['fzy_Results'].apply(lambda x: [item[0].get('name', np.nan) for item in x])\n",
    "    df['Similarity'] = df['fzy_Results'].apply(lambda x: [item[0].get('match_similarity', np.nan) for item in x])\n",
    "\n",
    "    return df#, error_log_fzy"
   ]
  },
  {
   "cell_type": "markdown",
   "id": "022c9a5f-7a37-4d7e-970f-220ec3607996",
   "metadata": {
    "tags": []
   },
   "source": [
    "## maskForValuesInColumnList"
   ]
  },
  {
   "cell_type": "code",
   "execution_count": null,
   "id": "b145c972-4e51-46d4-b56b-b7605d45b42e",
   "metadata": {
    "tags": []
   },
   "outputs": [],
   "source": [
    "def maskForValuesInColumnList( some_df, some_col, some_val ):\n",
    "    \"\"\"\n",
    "    https://stackoverflow.com/questions/41518920/how-to-query-if-a-list-type-column-contains-something\n",
    "    \n",
    "    Returns a dataframe where a value is found within a column of lists\n",
    "    \"\"\"\n",
    "    this_mask = some_df[some_col].apply( lambda x: some_val in x )\n",
    "    return( some_df[this_mask] )"
   ]
  },
  {
   "cell_type": "markdown",
   "id": "56d2c9b5-ba40-46db-9242-3c064bc139e8",
   "metadata": {
    "tags": []
   },
   "source": [
    "## lower_threshold"
   ]
  },
  {
   "cell_type": "code",
   "execution_count": null,
   "id": "e1414924-2dee-40a2-b77f-a4c9c996696f",
   "metadata": {
    "tags": []
   },
   "outputs": [],
   "source": [
    "def lower_threshold(some_df, some_col, threshold_value):\n",
    "    # Where any value in the list exceeds the threshold\n",
    "    this_mask = some_df[some_col].apply(lambda x: any(i <= threshold_value for i in x) )\n",
    "    return some_df[this_mask]"
   ]
  },
  {
   "cell_type": "markdown",
   "id": "6151c640-97e3-4c93-9e4a-b730cc358987",
   "metadata": {
    "tags": []
   },
   "source": [
    "## clean_parenthesis"
   ]
  },
  {
   "cell_type": "code",
   "execution_count": null,
   "id": "f73e929c-ae25-4048-a27c-ccc90d8afbe2",
   "metadata": {
    "tags": []
   },
   "outputs": [],
   "source": [
    "def clean_parenthesis(df, col):\n",
    "    # Apply regex to remove text within parentheses in the specified column\n",
    "    df[col] = df[col].apply(lambda text: re.sub(r'\\s*\\(.*?\\)', '', text) if isinstance(text, str) else text)\n",
    "    return df"
   ]
  },
  {
   "cell_type": "markdown",
   "id": "035cd994-f78d-4d8d-bbb5-95341dae1d3d",
   "metadata": {
    "tags": []
   },
   "source": [
    "## find_unique"
   ]
  },
  {
   "cell_type": "code",
   "execution_count": null,
   "id": "0fa8e21c-e817-4bc3-85f2-e5345b6c45e2",
   "metadata": {
    "tags": []
   },
   "outputs": [],
   "source": [
    "def find_unique (df, col):\n",
    "    # Find the unique value in a list\n",
    "    df = df.copy()\n",
    "    df.loc[:, col + \"set\"] = df[col].apply(lambda x: list(set(x)))\n",
    "    return df"
   ]
  },
  {
   "cell_type": "markdown",
   "id": "5e85fe6c-1d87-4f8c-aab7-38097d9138cf",
   "metadata": {},
   "source": [
    "## convert_to_list"
   ]
  },
  {
   "cell_type": "code",
   "execution_count": null,
   "id": "6313480f-25c0-4da4-bcc4-f23059f1da0e",
   "metadata": {},
   "outputs": [],
   "source": [
    "def convert_to_list(df, col):\n",
    "    # Convert strings to lists, ignoring NaN values\n",
    "    df[col] = df[col].apply(lambda x: ast.literal_eval(x) if isinstance(x, str) else x)\n",
    "    \n",
    "    # Convert lists to sets to remove duplicates, then back to lists\n",
    "    df[col] = df[col].apply(lambda x: list(set(x)) if isinstance(x, list) else x)\n",
    "    \n",
    "    # Replace NaN or None values with [np.nan]\n",
    "    df[col] = df[col].apply(lambda x: [np.nan] if x is None or (isinstance(x, float) and pd.isnull(x)) else x)\n",
    "\n",
    "    return df"
   ]
  },
  {
   "cell_type": "markdown",
   "id": "f10f9105-b518-4f01-bc18-20ea5a85c464",
   "metadata": {},
   "source": [
    "## clean_list"
   ]
  },
  {
   "cell_type": "code",
   "execution_count": null,
   "id": "ecebe171-8a3e-45b3-b8c0-eec3d46fdd17",
   "metadata": {},
   "outputs": [],
   "source": [
    "def clean_list(df, col):\n",
    "    # Convert string to actual list\n",
    "    df[col] = df[col].apply(lambda x: ast.literal_eval(x) if isinstance(x, str) else x)\n",
    "    \n",
    "    # Converting list to a set and then back to a list\n",
    "    df[col] = df[col].apply(lambda x: list(set(x)) if isinstance(x, list) else x)\n",
    "    \n",
    "    # Keep unique value from the list, either one will work\n",
    "    df[col] = df[col].apply(lambda x: x[0] if isinstance(x, list) else x)\n",
    "    \n",
    "    return df"
   ]
  },
  {
   "cell_type": "markdown",
   "id": "d17d8caf-785b-4e61-b8c7-7793b7bcd4d9",
   "metadata": {
    "tags": []
   },
   "source": [
    "# Apply functions for Preprocessing and Matching"
   ]
  },
  {
   "cell_type": "code",
   "execution_count": null,
   "id": "c067f12a-2d98-416c-86e7-318ae6aac1a8",
   "metadata": {
    "tags": []
   },
   "outputs": [],
   "source": [
    "# clean the format in redcap medication names\n",
    "df_med = clean_format(df_med)"
   ]
  },
  {
   "cell_type": "code",
   "execution_count": null,
   "id": "aad6238c-96f9-48f0-a5c5-a12612e2d7ce",
   "metadata": {
    "tags": []
   },
   "outputs": [],
   "source": [
    "# Remove vitmains and supplements\n",
    "df_filtered = df_med[~df_med['med_lower'].isin(otc_vit_sup['Name'])]\n",
    "# Remove vitamins, supplements, and OTCs again to ensure they are not in the dataframe\n",
    "df_med = df_filtered[~df_filtered['Reversed_Med'].str.contains(\n",
    "    r'vitamin|supplement|areds|calcium|fiber|fish oil|iron|magnesium|'\n",
    "    r'drops|drop|potassium|complex|d3|insulin|inhaler|sodium|vit|salt|sennas|gummies|acides|diagnostic|device|'\n",
    "    r'probiotics|probiotic|turmeric|tumeric|juice|centrum|herb|bioitin|omega|garlic|cinnamon|ginger|cranberry|nails|'\n",
    "    r'melatonin|tums|cream|CoQ-10|meatonin|biotin|Milk|Lutein|Peppermint oil|Red Yeast Rice|Levemir Flex Pen|'\n",
    "    r'Fiasp Flex Touch Injection|ENERGIZE|Oil|B-12|softener|Colace|Docusate|Q10|Enzyme|Glucosamine|wax'\n",
    "    ,\n",
    "    case=False, na=False\n",
    ")].drop_duplicates()"
   ]
  },
  {
   "cell_type": "code",
   "execution_count": null,
   "id": "421b104e-2a55-4602-8bf1-688fe877b1cf",
   "metadata": {
    "tags": []
   },
   "outputs": [],
   "source": [
    "df_med[['med_lower']].nunique()"
   ]
  },
  {
   "cell_type": "code",
   "execution_count": null,
   "id": "8d1a37f6-ea75-44ae-90f5-b23c1f449f28",
   "metadata": {
    "tags": []
   },
   "outputs": [],
   "source": [
    "df_med.shape"
   ]
  },
  {
   "cell_type": "code",
   "execution_count": null,
   "id": "c00cac73-ff58-495e-9d46-39a6fdbf1ac1",
   "metadata": {
    "tags": []
   },
   "outputs": [],
   "source": [
    "# Use absolute match on experts' results \n",
    "matched_manual = db_my_matching_drug(manual_df,\"Correct_Name\")"
   ]
  },
  {
   "cell_type": "markdown",
   "id": "368b661f-e927-4207-accd-46262b93e5cb",
   "metadata": {
    "tags": [],
    "toc-hr-collapsed": true
   },
   "source": [
    "## 1. Absolute Match\n",
    "- Correct: 1 : 1 match\n",
    "- Hold out: 1 : multiple matches for experts to check\n",
    "- Find: not match"
   ]
  },
  {
   "cell_type": "code",
   "execution_count": null,
   "id": "87bac6d6-bfc2-45ac-bdb9-88fe66694210",
   "metadata": {
    "tags": []
   },
   "outputs": [],
   "source": [
    "%%time\n",
    "# Apply 'my_matching_drug' function\n",
    "abs_df = db_my_matching_drug(df_med,\"Reversed_Med\").reset_index(drop = True)"
   ]
  },
  {
   "cell_type": "code",
   "execution_count": null,
   "id": "7fc3ba62-3600-46e6-8764-c4b5651e415b",
   "metadata": {},
   "outputs": [],
   "source": [
    "abs_df.shape"
   ]
  },
  {
   "cell_type": "markdown",
   "id": "f89786c9-36a4-4d93-80b5-b942b39011b5",
   "metadata": {
    "toc-hr-collapsed": true
   },
   "source": [
    "### Absolute - Held out: 1 to multiple ids"
   ]
  },
  {
   "cell_type": "code",
   "execution_count": null,
   "id": "ef74c727-0eae-4569-9170-ab6a075088ed",
   "metadata": {
    "tags": []
   },
   "outputs": [],
   "source": [
    "# Calculate the number of 'DrugName'\n",
    "abs_df['numNames'] = abs_df['DrugName'].map(len)\n",
    "\n",
    "# Capture drugs with matched multiple names\n",
    "abs_mtp = abs_df[ abs_df['numNames'] > 1 ]\n",
    "\n",
    "# Capture drugs without duplicate results\n",
    "abs_mtp_set = find_unique(abs_mtp, 'DrugbankId')\n",
    "abs_h = abs_mtp_set[abs_mtp_set['DrugbankIdset'].apply(lambda x: len(x) > 1)]\n",
    "\n",
    "print(abs_h.shape)\n",
    "\n",
    "# Check counts\n",
    "abs_h_counts = abs_h.groupby(['map_id', 'otdate', 'Number'])['med_lower'].nunique()\n",
    "print(abs_h_counts.sum())"
   ]
  },
  {
   "cell_type": "code",
   "execution_count": null,
   "id": "99f10e51-c331-42ee-b0f0-b39dd635153d",
   "metadata": {},
   "outputs": [],
   "source": [
    "abs_mtp[['med_lower']].count()"
   ]
  },
  {
   "cell_type": "code",
   "execution_count": null,
   "id": "88ae9fc8-5e5a-4514-aaf7-a8dee3973319",
   "metadata": {
    "tags": []
   },
   "outputs": [],
   "source": [
    "# Merge absolute held out with matched result\n",
    "merged_abs_h = pd.merge(\n",
    "    abs_h, #.drop(columns=['DrugName', 'DrugbankId']),\n",
    "    matched_manual[['map_id', 'otdate', 'MedName', \"Correct_Name\"]],\n",
    "    how='left',\n",
    "    on=['map_id', 'otdate','MedName'],\n",
    "    indicator=True\n",
    ")\n",
    "# matched_abs_h with human matches\n",
    "matched_abs_h = merged_abs_h[merged_abs_h['_merge'] == 'both']\n",
    "\n",
    "# Filter for rows in abs_h that haven't been matched in matched_manual\n",
    "unmatched_abs_h = merged_abs_h[merged_abs_h['_merge'] == 'left_only']\n",
    "print(matched_abs_h.shape)\n",
    "\n",
    "# Drop the merge indicator column if not needed\n",
    "unmatched_abs_h = unmatched_abs_h.drop(columns=['_merge'])\n",
    "print(unmatched_abs_h.shape)\n",
    "\n",
    "# Check counts of unique redcapname\n",
    "matched_abs_h_counts = matched_abs_h.groupby(['map_id', 'otdate', 'Number'])['MedName'].nunique()\n",
    "print(matched_abs_h_counts.sum())"
   ]
  },
  {
   "cell_type": "markdown",
   "id": "bd6d1953-1d54-437b-b635-8f1eaeec048a",
   "metadata": {},
   "source": [
    "### [Export unmatched_abs_h]"
   ]
  },
  {
   "cell_type": "raw",
   "id": "1bd2b7f9-b340-485b-af8d-ef3fa3dcee2d",
   "metadata": {
    "tags": []
   },
   "source": [
    "fp_unmatched_abs_h = datetime.date.today().strftime('%Y%m%d') + '_abs_heldout0206.csv'\n",
    "unmatched_abs_h.drop(columns = ['med_lower', 'Reversed_Med', ]).to_csv(fp_cwd + fp_unmatched_abs_h, index = False)"
   ]
  },
  {
   "cell_type": "markdown",
   "id": "63081901-58ae-41f5-a3df-d17223418716",
   "metadata": {},
   "source": [
    "### Absolute - Find: no match"
   ]
  },
  {
   "cell_type": "code",
   "execution_count": null,
   "id": "40a28c70-cc26-4bfc-a927-6998faeec4c2",
   "metadata": {
    "tags": []
   },
   "outputs": [],
   "source": [
    "# Missing DrugBankIDs\n",
    "# Subset to maskForValuesInColumnList( DATAFRAMEHERE, 'DrugName', np.nan )\n",
    "abs_no_match = maskForValuesInColumnList( abs_df, 'DrugbankId', np.nan )\n",
    "abs_no_match = abs_no_match.drop(abs_h.index, errors='ignore')\n",
    "\n",
    "abs_no_match.shape"
   ]
  },
  {
   "cell_type": "markdown",
   "id": "61a2bd0e-54c1-40a8-aa5f-bd93ce6cbf06",
   "metadata": {
    "tags": []
   },
   "source": [
    "### Absolute [Correct] = abs_df - hold out - no match\n",
    "- [union](https://pandas.pydata.org/docs/reference/api/pandas.Index.union.html)"
   ]
  },
  {
   "cell_type": "code",
   "execution_count": null,
   "id": "6cfbdbd4-30e4-475b-ad77-a8dd9b05d4fa",
   "metadata": {
    "tags": []
   },
   "outputs": [],
   "source": [
    "# Combine the indexes from abs_h and abs_no_match\n",
    "combined_index = abs_h.index.union(abs_no_match.index)\n",
    "\n",
    "# Filter out the rows with combined_index\n",
    "good_abs = abs_df[~abs_df.index.isin(combined_index)]\n",
    "\n",
    "print(good_abs.shape) "
   ]
  },
  {
   "cell_type": "code",
   "execution_count": null,
   "id": "8307a87b-ad0a-473c-81f1-5b2f3d307ff4",
   "metadata": {
    "tags": []
   },
   "outputs": [],
   "source": [
    "# Sanity check\n",
    "common_index = abs_h.index.intersection(abs_no_match.index)\n",
    "print(common_index)"
   ]
  },
  {
   "cell_type": "code",
   "execution_count": null,
   "id": "5d1f6764-eda7-44e8-b461-d97222470bc0",
   "metadata": {},
   "outputs": [],
   "source": [
    "total_rows = good_abs.shape[0] + len(combined_index)\n",
    "print(\"Total from parts:\", total_rows)\n",
    "print(\"Original abs_df rows:\", abs_df.shape[0])\n",
    "print(\"Check match:\", total_rows == abs_df.shape[0])"
   ]
  },
  {
   "cell_type": "code",
   "execution_count": null,
   "id": "12b73939-53ed-4f31-81f4-940cf46a1992",
   "metadata": {},
   "outputs": [],
   "source": [
    "abs_df.shape[0] == good_abs.shape[0] + len(combined_index)"
   ]
  },
  {
   "cell_type": "markdown",
   "id": "fd3773bd-0c4e-44d2-b79b-a2274cbb2121",
   "metadata": {
    "tags": [],
    "toc-hr-collapsed": true
   },
   "source": [
    "## 2. Fuzzy Match\n",
    "\n",
    "- Correct: 1 to 1 match, similarity > 0.9\n",
    "- Hold out: 1 to multiple matches\n",
    "- Find: \n",
    "    - similarity =< 0.9\n",
    "    - not match"
   ]
  },
  {
   "cell_type": "code",
   "execution_count": null,
   "id": "7525f746-58ec-4051-a65d-8f78ba712f9d",
   "metadata": {
    "tags": []
   },
   "outputs": [],
   "source": [
    "%%time\n",
    "# Apply 'my_fuzzy_match' function on the failed drugbankids\n",
    "fz_df = my_fuzzy_match(abs_no_match, \"Reversed_Med\")  \n",
    "fz_df.shape"
   ]
  },
  {
   "cell_type": "markdown",
   "id": "cbda8cd8-299a-4541-bd8e-969d57a270f8",
   "metadata": {},
   "source": [
    "### Fuzzy - Held out: 1 to multiple matches"
   ]
  },
  {
   "cell_type": "code",
   "execution_count": null,
   "id": "d0b23366-34b5-4b7f-996f-ae3695010e16",
   "metadata": {
    "tags": []
   },
   "outputs": [],
   "source": [
    "# Calculate the number of 'DrugName'\n",
    "fz_df['numNames'] = fz_df['DrugName'].map(len)\n",
    "\n",
    "# Capture drugs with matched multiple names\n",
    "fz_mtp = fz_df[ fz_df['numNames'] > 1 ]\n",
    "\n",
    "# Capture drugs without duplicate results\n",
    "fz_mtp_set = find_unique(fz_mtp, 'DrugbankId')\n",
    "fz_h = fz_mtp_set[fz_mtp_set['DrugbankIdset'].apply(lambda x: len(x) > 1)]\n",
    "\n",
    "fz_h.shape"
   ]
  },
  {
   "cell_type": "code",
   "execution_count": null,
   "id": "63ec8af8-de59-4892-b1b3-2a6cfcdaa226",
   "metadata": {
    "tags": []
   },
   "outputs": [],
   "source": [
    "# Merge absolute held out with matched result\n",
    "merged_fz_h = pd.merge(\n",
    "    fz_h, #.drop(columns=['DrugName', 'DrugbankId']),\n",
    "    #matched_manual[['map_id', 'Number', 'RedCapMedName']],\n",
    "    matched_manual[['map_id', 'Number', 'MedName']],\n",
    "    how='left',\n",
    "    #on=['RedCapMedName'],\n",
    "    on=['MedName'],\n",
    "    indicator=True\n",
    ")\n",
    "# matched_fz_h with human matches\n",
    "matched_fz_h = merged_fz_h[merged_fz_h['_merge'] == 'both']\n",
    "print(matched_fz_h.shape)\n",
    "\n",
    "unmatched_fz_h = merged_fz_h[merged_fz_h['_merge'] == 'left_only']\n",
    "\n",
    "# Drop the merge indicator column not needed\n",
    "unmatched_fz_h = unmatched_fz_h.drop(columns=['_merge'])\n",
    "print(unmatched_fz_h.shape)"
   ]
  },
  {
   "cell_type": "markdown",
   "id": "410527e8-150d-471f-b48f-2c277dffb898",
   "metadata": {},
   "source": [
    "### [Export unmatched_fz_h]"
   ]
  },
  {
   "cell_type": "raw",
   "id": "e66e45c2-905a-4264-b3f1-a9f2fa4902e1",
   "metadata": {
    "tags": []
   },
   "source": [
    "fp_unmatched_fz_h = datetime.date.today().strftime('%Y%m%d') + '_fz_heldout0206.csv'\n",
    "unmatched_fz_h.to_csv(fp_cwd + fp_unmatched_fz_h, index=False)"
   ]
  },
  {
   "cell_type": "markdown",
   "id": "db4b4cf0-aee2-4480-a992-66604a5af89f",
   "metadata": {},
   "source": [
    "### Fuzzy - Find:\n",
    "\n",
    "- no match\n",
    "    - similarity =< 0.9"
   ]
  },
  {
   "cell_type": "code",
   "execution_count": null,
   "id": "eaf89035-0626-45ac-8747-6a6c1fb2ce7a",
   "metadata": {
    "tags": []
   },
   "outputs": [],
   "source": [
    "# Find no matches if their DrugbankId is nan\n",
    "fz_no_match = maskForValuesInColumnList( fz_df, 'DrugbankId', np.nan )\n",
    "fz_no_match = fz_no_match.drop(fz_h.index, errors='ignore')\n",
    "\n",
    "fz_no_match.shape"
   ]
  },
  {
   "cell_type": "code",
   "execution_count": null,
   "id": "c02c89a3-1d71-41de-9ce1-b0494c2ed369",
   "metadata": {
    "tags": []
   },
   "outputs": [],
   "source": [
    "# Find similarity lower than 0.9\n",
    "fz_lower_60 = lower_threshold(fz_df, 'Similarity', 0.9) # Can be changed here depending on the study\n",
    "fz_lower_60 = fz_lower_60.drop(fz_h.index, errors='ignore')\n",
    "\n",
    "fz_lower_60.shape"
   ]
  },
  {
   "cell_type": "code",
   "execution_count": null,
   "id": "7da43c8a-ce0a-4015-b8d0-7743e108a716",
   "metadata": {
    "tags": []
   },
   "outputs": [],
   "source": [
    "# Check if indexes of abs_h are in abs_no_match\n",
    "is_in_fz_no_match = fz_lower_60.index.isin(fz_no_match.index)\n",
    "print(is_in_fz_no_match.sum())\n",
    "mask_fz_lower_60 = fz_lower_60[~is_in_fz_no_match]"
   ]
  },
  {
   "cell_type": "code",
   "execution_count": null,
   "id": "6f824210-4603-4074-9ec2-34b850e2d063",
   "metadata": {
    "tags": []
   },
   "outputs": [],
   "source": [
    "# concat \n",
    "fz_left = pd.concat([mask_fz_lower_60, fz_no_match], axis=0)\n",
    "fz_left.shape"
   ]
  },
  {
   "cell_type": "markdown",
   "id": "20c9f54e-5055-481c-b3bc-d84c695f0966",
   "metadata": {},
   "source": [
    "### Fuzzy Match [Correct] = fz_df - held out - no match"
   ]
  },
  {
   "cell_type": "code",
   "execution_count": null,
   "id": "af953bd9-5531-4a1e-a768-f45613cb93fc",
   "metadata": {
    "tags": []
   },
   "outputs": [],
   "source": [
    "# Combine the indexes from fz_h and fz_no_match and fz_lower_60\n",
    "combined_index_fz = fz_h.index.union(fz_left.index)\n",
    "\n",
    "# Filter out the rows with combined_index\n",
    "good_fz = fz_df[~fz_df.index.isin(combined_index_fz)]\n",
    "\n",
    "print(good_fz.shape) "
   ]
  },
  {
   "cell_type": "markdown",
   "id": "de2897c7-8793-4113-a700-d2d010cab52e",
   "metadata": {
    "toc-hr-collapsed": true
   },
   "source": [
    "## 3. J/K dictionary"
   ]
  },
  {
   "cell_type": "code",
   "execution_count": null,
   "id": "4d2fc54e-0920-4c60-a332-d4fa1b2eb7ba",
   "metadata": {
    "scrolled": true,
    "tags": []
   },
   "outputs": [],
   "source": [
    "# Add a column from expert dictionary here (filter for missing key from expert)\n",
    "fz_left['expert'] = fz_left['med_lower'].map(mydict)\n",
    "jk_df = clean_parenthesis(fz_left, 'expert')\n",
    "\n",
    "print(jk_df.shape)"
   ]
  },
  {
   "cell_type": "markdown",
   "id": "94e7dd24-94e7-4098-986d-affb37334cdc",
   "metadata": {},
   "source": [
    "### Absolute Match on 'Jason' column"
   ]
  },
  {
   "cell_type": "code",
   "execution_count": null,
   "id": "7c5053d5-808c-4d42-8c07-0ebc093a10d6",
   "metadata": {
    "scrolled": true,
    "tags": []
   },
   "outputs": [],
   "source": [
    "#Run same absolute match function on Jason column in the subset subset\n",
    "abs_j = db_my_matching_drug(jk_df, \"expert\") "
   ]
  },
  {
   "cell_type": "code",
   "execution_count": null,
   "id": "0fd75873-0d3b-4e3a-8141-aa86868523f1",
   "metadata": {
    "tags": []
   },
   "outputs": [],
   "source": [
    "# subset again\n",
    "expert_no_match = maskForValuesInColumnList( abs_j, 'DrugbankId', np.nan )\n",
    "expert_no_match.shape"
   ]
  },
  {
   "cell_type": "code",
   "execution_count": null,
   "id": "5a144cf0-dbbe-4381-a155-2303d6190006",
   "metadata": {
    "tags": []
   },
   "outputs": [],
   "source": [
    "# Calculate the number of 'DrugName'\n",
    "abs_j['numNames'] = abs_j['DrugName'].map(len)\n",
    "\n",
    "# Capture drugs with matched multiple names\n",
    "abs_mtp_j = abs_j[ abs_j['numNames'] > 1 ]\n",
    "\n",
    "# Capture drugs with duplicate results\n",
    "abs_mtp_j_set = find_unique(abs_mtp_j, 'DrugbankId')\n",
    "abs_j_h = abs_mtp_j_set[abs_mtp_j_set['DrugbankIdset'].apply(lambda x: len(x) > 1)]\n",
    "\n",
    "abs_mtp_j_set.shape"
   ]
  },
  {
   "cell_type": "code",
   "execution_count": null,
   "id": "8e83124a-f51d-4e0d-9f96-355c97da3380",
   "metadata": {
    "tags": []
   },
   "outputs": [],
   "source": [
    "good_expert = abs_j[~abs_j.index.isin(expert_no_match.index)]\n",
    "\n",
    "print(good_expert.shape)"
   ]
  },
  {
   "cell_type": "markdown",
   "id": "39f36767-b444-400a-a214-e772b98a5163",
   "metadata": {},
   "source": [
    "### Fuzzy Match on 'Jason' column of no matches"
   ]
  },
  {
   "cell_type": "code",
   "execution_count": null,
   "id": "63d8a6f8-891a-43b3-a4ae-9f38bc6be989",
   "metadata": {
    "tags": []
   },
   "outputs": [],
   "source": [
    "%%time\n",
    "# Apply 'my_fuzzy_match' function on the failed drugbankids\n",
    "fz_j = my_fuzzy_match(expert_no_match, \"expert\")  \n",
    "fz_j.shape"
   ]
  },
  {
   "cell_type": "markdown",
   "id": "78e8c9a1-1029-4655-b54e-71eaa51ba187",
   "metadata": {},
   "source": [
    "### Jason - Hold out: 1 to multiple matches"
   ]
  },
  {
   "cell_type": "code",
   "execution_count": null,
   "id": "bc654ce1-da0b-4006-ac7a-6e7625c1ff3e",
   "metadata": {
    "tags": []
   },
   "outputs": [],
   "source": [
    "# Calculate the number of 'DrugName'\n",
    "fz_j['numNames'] = fz_j['DrugName'].map(len)\n",
    "\n",
    "# Capture drugs with matched multiple names\n",
    "fz_mtp_j = fz_j[ fz_j['numNames'] > 1 ]\n",
    "\n",
    "# Capture drugs without duplicate results\n",
    "fz_mtp_j_set = find_unique(fz_mtp_j, 'DrugbankId')\n",
    "fz_j_h = fz_mtp_j_set[fz_mtp_j_set['DrugbankIdset'].apply(lambda x: len(x) > 1)]\n",
    "\n",
    "fz_j_h.shape"
   ]
  },
  {
   "cell_type": "markdown",
   "id": "6cea9ca3-e96c-418b-ac20-d8187cfa220d",
   "metadata": {},
   "source": [
    "### expert - Find: \n",
    " - no matches\n",
    " - similarity < 0.9"
   ]
  },
  {
   "cell_type": "code",
   "execution_count": null,
   "id": "abb5bfcf-8e3c-4166-82e3-440e4cc7fb63",
   "metadata": {
    "tags": []
   },
   "outputs": [],
   "source": [
    "j_lower_60 = lower_threshold(fz_j, 'Similarity', 0.9)\n",
    "j_lower_60.shape"
   ]
  },
  {
   "cell_type": "code",
   "execution_count": null,
   "id": "456deb44-45ca-4cbd-a5b2-4676f6eaff6f",
   "metadata": {
    "tags": []
   },
   "outputs": [],
   "source": [
    "fz_j_no_match = maskForValuesInColumnList( fz_j, 'DrugbankId', np.nan )\n",
    "fz_j_no_match.shape"
   ]
  },
  {
   "cell_type": "markdown",
   "id": "f2a55274-a85c-4d1e-8cd5-a6426c386d99",
   "metadata": {},
   "source": [
    "combined_index_fz = fz_h.index.union(fz_left.index)\n",
    "\n",
    "# Filter out the rows with combined_index\n",
    "good_fz = fz_df[~fz_df.index.isin(combined_index_fz)]### Fuzzy expert - Correct = fz_j - hold out - no matches "
   ]
  },
  {
   "cell_type": "code",
   "execution_count": null,
   "id": "fadb94d3-9648-4c94-9daa-356900ba6a72",
   "metadata": {
    "tags": []
   },
   "outputs": [],
   "source": [
    "# Combine the indexes from fz_j_no_match and j_lower_60\n",
    "combined_index_fz_j = fz_j_no_match.index.union(j_lower_60.index).union(fz_j_h.index)\n",
    "\n",
    "# Filter out the rows with combined_index\n",
    "good_fz_j = fz_j[~fz_j.index.isin(combined_index_fz_j)]\n",
    "\n",
    "print(good_fz_j.shape) "
   ]
  },
  {
   "cell_type": "code",
   "execution_count": null,
   "id": "bd665020-817e-49a0-bb0d-d020b6a0724a",
   "metadata": {
    "tags": []
   },
   "outputs": [],
   "source": [
    "len(combined_index_fz_j)"
   ]
  },
  {
   "cell_type": "markdown",
   "id": "98bb5896-8827-42f1-893c-74510dec0582",
   "metadata": {
    "toc-hr-collapsed": true
   },
   "source": [
    "## 4. Errors"
   ]
  },
  {
   "cell_type": "code",
   "execution_count": null,
   "id": "5af97528-a0af-4809-95dd-96a6fe111bd4",
   "metadata": {
    "tags": []
   },
   "outputs": [],
   "source": [
    "errors = fz_df.loc[combined_index_fz_j]"
   ]
  },
  {
   "cell_type": "code",
   "execution_count": null,
   "id": "7645a4a4-3a0c-45b8-9dbf-fe8bade42363",
   "metadata": {
    "tags": []
   },
   "outputs": [],
   "source": [
    "errors.shape"
   ]
  },
  {
   "cell_type": "code",
   "execution_count": null,
   "id": "b4893477-e79c-4779-ac59-82884b4cc875",
   "metadata": {
    "tags": []
   },
   "outputs": [],
   "source": [
    "# Merge human matched 'error's to exist 'errors'\n",
    "merged_matched_er = pd.merge(\n",
    "    errors.drop(columns=['DrugName', 'DrugbankId']),\n",
    "    matched_manual[['map_id', 'otdate', 'Number', 'MedName', 'DrugName', 'DrugbankId', 'Correct_Name', 'CorrectDrugbankId']],\n",
    "    how='left',\n",
    "    on=['map_id', 'otdate', 'Number', 'MedName']\n",
    ")"
   ]
  },
  {
   "cell_type": "code",
   "execution_count": null,
   "id": "ac5101b3-cedf-4682-85c5-0286f5030f0d",
   "metadata": {
    "tags": []
   },
   "outputs": [],
   "source": [
    "merged_matched_er.shape"
   ]
  },
  {
   "cell_type": "code",
   "execution_count": null,
   "id": "8a6507c8-0082-41ab-a429-d23cee435502",
   "metadata": {
    "tags": []
   },
   "outputs": [],
   "source": [
    "# Apply function\n",
    "merged_matched_er = convert_to_list(merged_matched_er, 'DrugbankId')\n",
    "merged_matched_er = convert_to_list(merged_matched_er, 'DrugName')"
   ]
  },
  {
   "cell_type": "markdown",
   "id": "6d83943c-fb6a-420b-9fa2-2d5ae4234a27",
   "metadata": {},
   "source": [
    "### Corrected errors(corrected_error1)"
   ]
  },
  {
   "cell_type": "code",
   "execution_count": null,
   "id": "7f0aa32c-3950-4d11-8f46-0e95bfa8fba7",
   "metadata": {
    "tags": []
   },
   "outputs": [],
   "source": [
    "# Those missing DrugName in errors\n",
    "# Find those mismatches Drug Names with manually matched names\n",
    "na_names = maskForValuesInColumnList(merged_matched_er, 'DrugName', np.nan )\n",
    "na_names.shape"
   ]
  },
  {
   "cell_type": "code",
   "execution_count": null,
   "id": "7deabf6d-2fd3-4d56-9881-b37da25b4f26",
   "metadata": {
    "tags": []
   },
   "outputs": [],
   "source": [
    "# Those corrected DrugName in 'errors'\n",
    "corrected_error = merged_matched_er[~merged_matched_er.index.isin(na_names.index)]\n",
    "corrected_error.shape"
   ]
  },
  {
   "cell_type": "markdown",
   "id": "8ed6c004-18a8-43d6-a24a-c1240f52d9f4",
   "metadata": {},
   "source": [
    "### left to correct errors"
   ]
  },
  {
   "cell_type": "code",
   "execution_count": null,
   "id": "623bed82-adca-44c2-8ef1-bdaa7c482322",
   "metadata": {
    "tags": []
   },
   "outputs": [],
   "source": [
    "matched_left_error = na_names[['map_id', 'otdate', 'Number', 'MedName', 'Correct_Name', 'CorrectDrugbankId']]\n",
    "\n",
    "# Only use REDCapMedName to merge\n",
    "left_na_names_in_error_correct = pd.merge(\n",
    "    matched_left_error[['map_id', 'otdate', 'Number', 'MedName']],\n",
    "    matched_manual[['MedName', 'Correct_Name', 'CorrectDrugbankId', 'DrugName', 'DrugbankId']].drop_duplicates(subset=['MedName']),\n",
    "    how='left',\n",
    "    on=['MedName']\n",
    ")\n",
    "\n",
    "# Apply function convert to list\n",
    "left_na_names_in_error_correct = convert_to_list(left_na_names_in_error_correct, 'DrugbankId')\n",
    "left_na_names_in_error_correct = convert_to_list(left_na_names_in_error_correct, 'DrugName')\n",
    "left_na_names_in_error_correct.shape"
   ]
  },
  {
   "cell_type": "code",
   "execution_count": null,
   "id": "10c04558-b8c3-429d-9375-38c2897c79f5",
   "metadata": {
    "tags": []
   },
   "outputs": [],
   "source": [
    "# Extract those missing DrugName in errors that needs to be human identified\n",
    "need_identify_drugs = maskForValuesInColumnList(left_na_names_in_error_correct, 'DrugName', np.nan )\n",
    "need_identify_drugs.shape"
   ]
  },
  {
   "cell_type": "code",
   "execution_count": null,
   "id": "189f0fe8-1b99-409f-b25d-8a056c70df0e",
   "metadata": {
    "tags": []
   },
   "outputs": [],
   "source": [
    "# Those corrected 'errors'\n",
    "corrected_left_error = left_na_names_in_error_correct[~left_na_names_in_error_correct.index.isin(need_identify_drugs.index)]\n",
    "corrected_left_error.shape"
   ]
  },
  {
   "cell_type": "code",
   "execution_count": null,
   "id": "2e614fcf-3f17-4a24-90d5-a83b58315f76",
   "metadata": {
    "tags": []
   },
   "outputs": [],
   "source": [
    "left_na_names_in_error_correct.head()"
   ]
  },
  {
   "cell_type": "raw",
   "id": "56386952-308b-40d9-83bc-0efadc118407",
   "metadata": {
    "tags": []
   },
   "source": [
    "fp_need_identify_drugs = datetime.date.today().strftime('%Y%m%d') + '_need_identify_drugs0206.csv'\n",
    "need_identify_drugs.to_csv(fp_cwd + fp_need_identify_drugs, index = False)"
   ]
  },
  {
   "cell_type": "markdown",
   "id": "eb0b06c8-0618-4748-83a7-a388c8cdba31",
   "metadata": {
    "tags": []
   },
   "source": [
    "## 5. Concate all the correct Drugs"
   ]
  },
  {
   "cell_type": "code",
   "execution_count": null,
   "id": "ae063926-dc4a-450c-8090-482784b86113",
   "metadata": {
    "tags": []
   },
   "outputs": [],
   "source": [
    "# concat 3 good dataframes as 1\n",
    "combined_good = pd.concat([good_fz_j, good_jason, good_fz, good_abs], ignore_index=False)"
   ]
  },
  {
   "cell_type": "code",
   "execution_count": null,
   "id": "947207b6-a133-4e20-868a-c8ec7a9cd663",
   "metadata": {
    "tags": []
   },
   "outputs": [],
   "source": [
    "combined_good.shape # previously (3236, 13)"
   ]
  },
  {
   "cell_type": "code",
   "execution_count": null,
   "id": "b53533d0-622e-4ee0-bbe5-81437f1a2c5e",
   "metadata": {
    "tags": []
   },
   "outputs": [],
   "source": [
    "# Convert strings to list and keep the unique element of DrugbankId and DrugName\n",
    "combined_good = clean_list(combined_good, 'DrugbankId')\n",
    "combined_good = clean_list(combined_good, 'DrugName')"
   ]
  },
  {
   "cell_type": "code",
   "execution_count": null,
   "id": "8dbfe9ca-c769-472b-8927-09d11a1f5f80",
   "metadata": {
    "tags": []
   },
   "outputs": [],
   "source": [
    "# Drop unneeded variables\n",
    "combined_good = combined_good.drop(columns = ['med_lower',\n",
    " 'Reversed_Med',\n",
    " 'Results',\n",
    " 'Similarity',\n",
    " 'numNames',\n",
    " 'fzy_Results',\n",
    " 'expert'])"
   ]
  },
  {
   "cell_type": "code",
   "execution_count": null,
   "id": "f4697f17-3dc8-460a-9892-4ff16071a586",
   "metadata": {
    "tags": []
   },
   "outputs": [],
   "source": [
    "combined_good.shape"
   ]
  },
  {
   "cell_type": "markdown",
   "id": "554db259-e663-4b14-913a-d712113c560c",
   "metadata": {
    "toc-hr-collapsed": true
   },
   "source": [
    "## 6. Concate all held out sets and errors"
   ]
  },
  {
   "cell_type": "code",
   "execution_count": null,
   "id": "d0025850-de70-4394-9af1-0091209790ad",
   "metadata": {
    "tags": []
   },
   "outputs": [],
   "source": [
    "matched_abs_h = matched_abs_h.drop(columns = ['med_lower',\n",
    " 'Reversed_Med',\n",
    " 'Results',\n",
    " 'Similarity',\n",
    " 'numNames',\n",
    " 'DrugbankIdset',\n",
    " 'Correct_Name'])"
   ]
  },
  {
   "cell_type": "code",
   "execution_count": null,
   "id": "d0fd9a71-71dd-4bee-9715-c01e009089e0",
   "metadata": {
    "tags": []
   },
   "outputs": [],
   "source": [
    "matched_fz_h = matched_fz_h[['map_id_x', 'otdate', 'Number_x', 'MedName', 'DrugName', 'DrugbankId']]\n",
    "matched_fz_h = matched_fz_h.rename(columns={'map_id_x': 'map_id', 'Number_x': 'Number'})"
   ]
  },
  {
   "cell_type": "code",
   "execution_count": null,
   "id": "20264856-336b-4162-8c1d-406957700ead",
   "metadata": {
    "tags": []
   },
   "outputs": [],
   "source": [
    "corrected_error = corrected_error[['map_id', 'otdate', 'Number', 'MedName', 'DrugName', 'DrugbankId']]"
   ]
  },
  {
   "cell_type": "code",
   "execution_count": null,
   "id": "c65a360c-d964-4ff8-adee-e484990d0168",
   "metadata": {
    "tags": []
   },
   "outputs": [],
   "source": [
    "unmatched_abs_h = unmatched_abs_h[['map_id', 'otdate', 'Number', 'MedName', 'Correct_Name']]\n",
    "\n",
    "unmatched_fz_h = unmatched_fz_h[['map_id_x', 'otdate', 'Number_x', 'MedName', 'DrugName', 'DrugbankId']]\n",
    "unmatched_fz_h = unmatched_fz_h.rename(columns={'map_id_x': 'map_id', 'Number_x': 'Number'})"
   ]
  },
  {
   "cell_type": "code",
   "execution_count": null,
   "id": "48e82570-c092-4ceb-94ec-87d557383ce4",
   "metadata": {
    "tags": []
   },
   "outputs": [],
   "source": [
    "matched_abs_h.shape"
   ]
  },
  {
   "cell_type": "code",
   "execution_count": null,
   "id": "fd469840-a399-404a-b87e-2823c240394e",
   "metadata": {
    "tags": []
   },
   "outputs": [],
   "source": [
    "matched_fz_h.shape"
   ]
  },
  {
   "cell_type": "code",
   "execution_count": null,
   "id": "cb6a7392-68f0-4773-a963-15177a1278ea",
   "metadata": {
    "tags": []
   },
   "outputs": [],
   "source": [
    "corrected_error.shape"
   ]
  },
  {
   "cell_type": "code",
   "execution_count": null,
   "id": "c90571bb-63ae-4998-a058-f91450071cfa",
   "metadata": {
    "tags": []
   },
   "outputs": [],
   "source": [
    "matched_left_error.shape"
   ]
  },
  {
   "cell_type": "code",
   "execution_count": null,
   "id": "e1d9a74b-0f1f-466e-8c18-54108636a1e8",
   "metadata": {
    "tags": []
   },
   "outputs": [],
   "source": [
    "matched_h_er1 = pd.concat([matched_abs_h, # 47\n",
    "                           matched_fz_h, # 17\n",
    "                           corrected_error, # 354\n",
    "                           matched_left_error, #13\n",
    "                           need_identify_drugs,#\n",
    "                           unmatched_abs_h, #\n",
    "                           unmatched_fz_h #\n",
    "                          ], ignore_index=True)\n",
    "\n",
    "# Convert strings to list and keep the unique element of DrugbankId and DrugName\n",
    "combined_h_er = clean_list(matched_h_er1, 'DrugbankId')\n",
    "combined_h_er = clean_list(matched_h_er1, 'DrugName')\n",
    "\n",
    "matched_h_er1.shape"
   ]
  },
  {
   "cell_type": "code",
   "execution_count": null,
   "id": "3641539c-2e6a-4ebc-8d11-7b0e92ad20d8",
   "metadata": {
    "tags": []
   },
   "outputs": [],
   "source": [
    "combined_h_er.isna().sum()"
   ]
  },
  {
   "cell_type": "code",
   "execution_count": null,
   "id": "f62a6485-79ca-43ba-8a94-d5f9ab2e23bc",
   "metadata": {
    "tags": []
   },
   "outputs": [],
   "source": [
    "# Fill Correct_Name where it is NaN in DrugName\n",
    "combined_h_er['DrugName'] = combined_h_er['DrugName'].fillna(combined_h_er['Correct_Name'])\n",
    "\n",
    "# Fill CorrectDrugbankId where it is NaN with values from RedCapMedName (or another condition)\n",
    "combined_h_er['DrugbankId'] = combined_h_er['DrugbankId'].fillna(combined_h_er['CorrectDrugbankId'])\n",
    "\n",
    "matched_h_er = combined_h_er.drop(columns = ['Correct_Name', 'CorrectDrugbankId'])\n",
    "\n",
    "#matched_h_er.drop_duplicates(inplace=True)  # Drop duplicates in place\n",
    "print(matched_h_er.shape)  # Print the shape of the DataFrame after dropping duplicates"
   ]
  },
  {
   "cell_type": "code",
   "execution_count": null,
   "id": "6cd54d07-f3e7-413b-afa3-99eaec88ad11",
   "metadata": {
    "tags": []
   },
   "outputs": [],
   "source": [
    "# concat matched_h_er and combined_good\n",
    "tmp_result = pd.concat([matched_h_er, combined_good], ignore_index=True)\n",
    "tmp_result['DrugbankId'] = tmp_result['DrugbankId'].str.split(',')\n",
    "tmp_result = tmp_result.explode('DrugbankId', ignore_index=True)"
   ]
  },
  {
   "cell_type": "code",
   "execution_count": null,
   "id": "7ebbed1d-ade2-4fad-b139-352b6c81e5fc",
   "metadata": {
    "tags": []
   },
   "outputs": [],
   "source": [
    "tmp_result.shape"
   ]
  },
  {
   "cell_type": "code",
   "execution_count": null,
   "id": "15f6778f-e3be-4a30-9958-36461ac3bcb2",
   "metadata": {
    "tags": []
   },
   "outputs": [],
   "source": [
    "result = tmp_result[['map_id', 'otdate', 'Source', 'Number', 'MedName', 'DrugName', 'DrugbankId']].drop_duplicates()\n",
    "result.shape"
   ]
  },
  {
   "cell_type": "code",
   "execution_count": null,
   "id": "68c4b2f4-38bd-4eed-bd3c-dde8cf12f2f1",
   "metadata": {
    "tags": []
   },
   "outputs": [],
   "source": [
    "result.isna().sum()"
   ]
  },
  {
   "cell_type": "code",
   "execution_count": null,
   "id": "3f909a69-1fe9-48d3-8fc5-c88907581e51",
   "metadata": {
    "tags": []
   },
   "outputs": [],
   "source": [
    "missing = result[result['DrugName'].isna()]\n",
    "missing"
   ]
  },
  {
   "cell_type": "raw",
   "id": "0b39bc36-2a3e-45ef-95d5-36c11fb0042e",
   "metadata": {
    "tags": []
   },
   "source": [
    "fp_missing = datetime.date.today().strftime('%Y%m%d') + '_cc_check.csv'\n",
    "missing.to_csv(fp_cwd + fp_missing, index=False)"
   ]
  },
  {
   "cell_type": "code",
   "execution_count": null,
   "id": "84f47f6e-56ee-4e32-9c94-b7fe2543a519",
   "metadata": {
    "tags": []
   },
   "outputs": [],
   "source": [
    "result = result.sort_values([\n",
    "    'map_id',\n",
    "    'otdate',\n",
    "    'Source',\n",
    "])\n",
    "\n",
    "fp_result = datetime.date.today().strftime('%Y%m%d') + '_drugs_aft_DER.csv'\n",
    "result.to_csv(fp_cwd + fp_result, index=False)"
   ]
  },
  {
   "cell_type": "code",
   "execution_count": null,
   "id": "4689da9c-fb7b-4dbe-aefc-dfd2a0aeccfe",
   "metadata": {
    "tags": []
   },
   "outputs": [],
   "source": [
    "result.shape"
   ]
  },
  {
   "cell_type": "code",
   "execution_count": null,
   "id": "50505c6d-0502-4e1c-ae16-b025331f73fe",
   "metadata": {
    "tags": []
   },
   "outputs": [],
   "source": [
    "result[['DrugName']].nunique()"
   ]
  },
  {
   "cell_type": "code",
   "execution_count": null,
   "id": "7a3b102a-9098-4da1-8f9c-6138e3339f40",
   "metadata": {
    "tags": []
   },
   "outputs": [],
   "source": [
    "result.isna().sum()"
   ]
  },
  {
   "cell_type": "markdown",
   "id": "914d793a-e82a-44d3-9d5c-abad58422293",
   "metadata": {},
   "source": [
    "# Total Execution Time"
   ]
  },
  {
   "cell_type": "code",
   "execution_count": null,
   "id": "2f556f93-82e5-469a-b57c-a5773a08c179",
   "metadata": {
    "tags": []
   },
   "outputs": [],
   "source": [
    "analysis_end = timer()\n",
    "print(datetime.timedelta(seconds=(analysis_end - analysis_start)))"
   ]
  },
  {
   "cell_type": "code",
   "execution_count": null,
   "id": "65fc628b-399d-4f30-8835-b502c6ca3f19",
   "metadata": {},
   "outputs": [],
   "source": []
  }
 ],
 "metadata": {
  "kernelspec": {
   "display_name": "Python 3 (ipykernel)",
   "language": "python",
   "name": "python3"
  },
  "language_info": {
   "codemirror_mode": {
    "name": "ipython",
    "version": 3
   },
   "file_extension": ".py",
   "mimetype": "text/x-python",
   "name": "python",
   "nbconvert_exporter": "python",
   "pygments_lexer": "ipython3",
   "version": "3.12.7"
  },
  "toc-autonumbering": false,
  "toc-showmarkdowntxt": true
 },
 "nbformat": 4,
 "nbformat_minor": 5
}
