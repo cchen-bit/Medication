{
 "cells": [
  {
   "cell_type": "markdown",
   "id": "1d19963a-34b6-4871-b517-678969e8e1fe",
   "metadata": {
    "toc-hr-collapsed": true
   },
   "source": [
    "# **Medication Correction**\n",
    "\n",
    "## Step 3\n",
    "\n",
    "by Chen Chen (c.chen2@wustl.edu); David Brown (browndavid@wustl.edu)"
   ]
  },
  {
   "cell_type": "markdown",
   "id": "f37f7e55-4bc8-4a85-b7e7-b1c3908f2580",
   "metadata": {},
   "source": [
    "# Imports"
   ]
  },
  {
   "cell_type": "code",
   "execution_count": 246,
   "id": "4173e7c1-a813-453f-82d1-c796871da891",
   "metadata": {
    "tags": []
   },
   "outputs": [],
   "source": [
    "# General\n",
    "import datetime\n",
    "import os\n",
    "from timeit import default_timer as timer # Preferred across OS; see https://stackoverflow.com/a/25823885\n",
    "\n",
    "# Data handling\n",
    "import numpy as np\n",
    "import pandas as pd\n",
    "\n",
    "# Data visualization\n",
    "import matplotlib.pyplot as plt\n",
    "\n",
    "# Drug recognition\n",
    "from drug_named_entity_recognition import find_drugs\n",
    "\n",
    "# Useful\n",
    "import ast\n",
    "import re\n",
    "import string"
   ]
  },
  {
   "cell_type": "markdown",
   "id": "e1ab59df-3067-43b6-857c-2e03d0197962",
   "metadata": {
    "tags": []
   },
   "source": [
    "# Functions "
   ]
  },
  {
   "cell_type": "code",
   "execution_count": 248,
   "id": "734f0077-d693-4907-b82f-201b5dd41160",
   "metadata": {
    "tags": []
   },
   "outputs": [],
   "source": [
    "def clean_label(label):\n",
    "    # Remove bracket content\n",
    "    label = re.sub(r'\\(.*?\\)', '', label).strip()\n",
    "    # Remove trailing 'd' followed by numbers\n",
    "    label = re.sub(r'\\sd\\d+$', '', label).strip()\n",
    "    return label"
   ]
  },
  {
   "cell_type": "markdown",
   "id": "b5d2c1b5-13ad-4ef3-864d-40beb6abb5ba",
   "metadata": {},
   "source": [
    "# Input data"
   ]
  },
  {
   "cell_type": "code",
   "execution_count": 251,
   "id": "8aa1aa3d-480f-4bd9-8ae5-1b01d9c999e6",
   "metadata": {
    "tags": []
   },
   "outputs": [],
   "source": [
    "fp_cwd = os.getcwd() + \"/\"\n",
    "\n",
    "fp_full_matched_extend = datetime.date.today().strftime('%Y%m%d') + '_full_matched_name_extend.csv'\n",
    "input_drugs = pd.read_csv(fp_cwd + fp_full_matched_extend, low_memory=False)"
   ]
  },
  {
   "cell_type": "markdown",
   "id": "ec86b0cf-fd33-4afe-aeab-7a7b6ccec133",
   "metadata": {},
   "source": [
    "## Clean some misspelling & Remove Vitamins/Supplements/OTCs"
   ]
  },
  {
   "cell_type": "code",
   "execution_count": 252,
   "id": "e7334ae9-3f9d-4865-8c57-7bb5eb91fb83",
   "metadata": {
    "tags": []
   },
   "outputs": [],
   "source": [
    "replace_dict = {\n",
    "    'fluoxetine Delayed Release Oral Capsule': 'fluoxetine',\n",
    "    'paroxetine Oral Suspension [Paxil]': 'paroxetine',\n",
    "    'trazodone Oral Capsule': 'trazodone'\n",
    "}"
   ]
  },
  {
   "cell_type": "code",
   "execution_count": 253,
   "id": "dcd6c1a9-8ced-4941-a28e-b47e48c9be32",
   "metadata": {
    "tags": []
   },
   "outputs": [],
   "source": [
    "df = input_drugs[~input_drugs['MedName'].str.contains(\n",
    "    r'CoQ-10|melatonin|biotin|Milk|Lutein|Peppermint oil|Red Yeast Rice|Levemir Flex Pen|'\n",
    "    r'Fiasp Flex Touch Injection|ENERGIZE|Oil|B-12|softener|Colace|Docusate|Q10|Enzyme|'\n",
    "    r'Glucosamine|wax|Hydroxocobalamin|Zinc sulfate|Chondroitin sulfates|hyaluronate|'\n",
    "    r'methylsulfonylmethane|Lactobacillus acidophilus|Melatonin / tryptophan|L-glutamine|lecithin|phenazopyridine|arginine Extended Release Oral Tablet',\n",
    "    case=False, na=False\n",
    ")].drop_duplicates()"
   ]
  },
  {
   "cell_type": "code",
   "execution_count": 254,
   "id": "f75e79e8-ad6f-48ac-ba53-79bf88560ea5",
   "metadata": {
    "tags": []
   },
   "outputs": [],
   "source": [
    "df = df[~df['mapped_name'].str.contains(\n",
    "    r'CoQ-10|melatonin|biotin|Milk|Lutein|Peppermint oil|Red Yeast Rice|Levemir Flex Pen|'\n",
    "    r'Fiasp Flex Touch Injection|ENERGIZE|Oil|B-12|softener|Colace|Docusate|Q10|Enzyme|'\n",
    "    r'Glucosamine|wax|Hydroxocobalamin|Zinc sulfate|Chondroitin sulfates|hyaluronate|'\n",
    "    r'methylsulfonylmethane|Lactobacillus acidophilus|Melatonin / tryptophan|L-glutamine|lecithin|phenazopyridine|arginine Extended Release Oral Tablet',\n",
    "    case=False, na=False\n",
    ")].drop_duplicates()"
   ]
  },
  {
   "cell_type": "code",
   "execution_count": 255,
   "id": "960743a1-f8aa-4632-a843-51ccfb8942e0",
   "metadata": {
    "tags": []
   },
   "outputs": [
    {
     "data": {
      "text/plain": [
       "446"
      ]
     },
     "execution_count": 255,
     "metadata": {},
     "output_type": "execute_result"
    }
   ],
   "source": [
    "input_drugs['mapped_name'].nunique()"
   ]
  },
  {
   "cell_type": "code",
   "execution_count": 256,
   "id": "473c2a43-b22e-4ade-9890-8e57f920f050",
   "metadata": {
    "tags": []
   },
   "outputs": [
    {
     "data": {
      "text/plain": [
       "446"
      ]
     },
     "execution_count": 256,
     "metadata": {},
     "output_type": "execute_result"
    }
   ],
   "source": [
    "df['mapped_name'].nunique()"
   ]
  },
  {
   "cell_type": "code",
   "execution_count": 257,
   "id": "81def087-2dab-4968-91f4-f9e6e1f0a48e",
   "metadata": {
    "tags": []
   },
   "outputs": [
    {
     "data": {
      "text/plain": [
       "(23446, 12)"
      ]
     },
     "execution_count": 257,
     "metadata": {},
     "output_type": "execute_result"
    }
   ],
   "source": [
    "input_drugs.shape"
   ]
  },
  {
   "cell_type": "code",
   "execution_count": 258,
   "id": "9cee68b8-a6c0-4896-9a2c-12d00fde8759",
   "metadata": {
    "tags": []
   },
   "outputs": [
    {
     "data": {
      "text/plain": [
       "(23446, 12)"
      ]
     },
     "execution_count": 258,
     "metadata": {},
     "output_type": "execute_result"
    }
   ],
   "source": [
    "df.shape"
   ]
  },
  {
   "cell_type": "code",
   "execution_count": 259,
   "id": "e09be3df-c3fa-4393-b1b7-1c5c26f08950",
   "metadata": {
    "tags": []
   },
   "outputs": [],
   "source": [
    "df['mapped_name'] = df['mapped_name'].replace(replace_dict) # 2 meds were corrected\n",
    "df['med_lower'] = df['MedName'].str.lower().str.strip() # Make it lower cases"
   ]
  },
  {
   "cell_type": "code",
   "execution_count": 260,
   "id": "2e675831-6caf-43bb-8082-32ce3a243b4a",
   "metadata": {
    "tags": []
   },
   "outputs": [
    {
     "data": {
      "text/plain": [
       "444"
      ]
     },
     "execution_count": 260,
     "metadata": {},
     "output_type": "execute_result"
    }
   ],
   "source": [
    "df['mapped_name'].nunique()"
   ]
  },
  {
   "cell_type": "code",
   "execution_count": null,
   "id": "a5f134e7-72c4-4aab-9c52-540f1969fafe",
   "metadata": {},
   "outputs": [],
   "source": [
    "# convert the long format to wide format\n",
    "df = df.pivot_table(\n",
    "    index=['map_id', 'redcap_event_name', 'Number', 'RedCapMedName', 'mapped_name'],  # Row identifiers\n",
    "    columns='AHFSClassText',  \n",
    "    values='AHFSClassNum',  \n",
    "    aggfunc=lambda x: 1  # Assign 1 if a value exists\n",
    ").fillna(0).reset_index()  # Replace NaN with 0 and reset index\n",
    "\n",
    "df_wide = df.drop_duplicates()"
   ]
  }
 ],
 "metadata": {
  "kernelspec": {
   "display_name": "Python 3 (ipykernel)",
   "language": "python",
   "name": "python3"
  },
  "language_info": {
   "codemirror_mode": {
    "name": "ipython",
    "version": 3
   },
   "file_extension": ".py",
   "mimetype": "text/x-python",
   "name": "python",
   "nbconvert_exporter": "python",
   "pygments_lexer": "ipython3",
   "version": "3.12.7"
  }
 },
 "nbformat": 4,
 "nbformat_minor": 5
}
