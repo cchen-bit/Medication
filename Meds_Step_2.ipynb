{
 "cells": [
  {
   "cell_type": "markdown",
   "id": "3d4e7007-6ffa-4a08-b4b0-0510954b5481",
   "metadata": {
    "toc-hr-collapsed": true
   },
   "source": [
    "# **Medication Correction**\n",
    "\n",
    "## Step 2 - Mapping Standardized Drug Names to AHFS Therapeutic Classes \n",
    "\n",
    "by Chen Chen (c.chen2@wustl.edu); David Brown (browndavid@wustl.edu)\n",
    "20250721"
   ]
  },
  {
   "cell_type": "markdown",
   "id": "6b2d7c87-2f10-437b-b87c-83ab5b7b0efa",
   "metadata": {
    "tags": []
   },
   "source": [
    "# Import libraries and Input data"
   ]
  },
  {
   "cell_type": "code",
   "execution_count": 1,
   "id": "9c9fe3ec-bdb4-4ed3-87a0-fcb82c4dfe22",
   "metadata": {
    "tags": []
   },
   "outputs": [],
   "source": [
    "# General\n",
    "import datetime\n",
    "import os\n",
    "from timeit import default_timer as timer # Preferred across OS; see https://stackoverflow.com/a/25823885\n",
    "\n",
    "# Data handling\n",
    "import numpy as np\n",
    "import pandas as pd\n",
    "\n",
    "# Data visualization\n",
    "import matplotlib.pyplot as plt\n",
    "\n",
    "# import theFuzz package\n",
    "from thefuzz import process\n",
    "from thefuzz import fuzz\n",
    "\n",
    "# Useful\n",
    "import ast\n",
    "import re\n",
    "import string"
   ]
  },
  {
   "cell_type": "code",
   "execution_count": 2,
   "id": "3ba9a82c-8a0d-4f9c-9031-ea7ed6d0cb31",
   "metadata": {
    "tags": []
   },
   "outputs": [],
   "source": [
    "# Overall execution duration\n",
    "analysis_start = timer()"
   ]
  },
  {
   "cell_type": "code",
   "execution_count": 4,
   "id": "3a191c08-34d4-420d-90bc-efc282dd44c3",
   "metadata": {
    "tags": []
   },
   "outputs": [],
   "source": [
    "fp_cwd = os.getcwd() + \"/\"\n",
    "\n",
    "# Input RedCap data after DER\n",
    "input_data = pd.read_csv(fp_cwd + \"20250715_drugs_aft_DER.csv\", low_memory=False)\n",
    "\n",
    "# Input AHFS data\n",
    "input_ahfs_class = pd.read_csv(fp_cwd + \"DrugBank_AHFS/AHFS_class.csv\", low_memory=False)\n",
    "input_ahfs_drug = pd.read_csv(fp_cwd + \"DrugBank_AHFS/AHFS_drug.csv\", low_memory=False)\n",
    "input_ahfs_trade_name = pd.read_csv(fp_cwd + \"DrugBank_AHFS/AHFS_trade_name.csv\", low_memory=False)\n",
    "input_ahfs_scdf = pd.read_csv(fp_cwd + \"DrugBank_AHFS/AHFS_SCDF.csv\", low_memory=False)\n",
    "ndc_scdf_un = pd.read_csv(fp_cwd + \"DrugBank_AHFS/NDC_SCDF_UN.csv\", low_memory=False)\n",
    "class_extend = pd.read_csv(fp_cwd + \"DrugBank_AHFS/AHFS_class_extend.csv\", low_memory=False)"
   ]
  },
  {
   "cell_type": "markdown",
   "id": "e6e3bf11-c3cf-433a-ab87-54ddffa331e0",
   "metadata": {
    "tags": []
   },
   "source": [
    "# Functions"
   ]
  },
  {
   "cell_type": "code",
   "execution_count": 5,
   "id": "91a91ba9-d4ab-45be-b527-6acf30246686",
   "metadata": {
    "tags": []
   },
   "outputs": [],
   "source": [
    "# Function to convert the Drug names to lower case\n",
    "def my_lower (df, col):\n",
    "    df[col]=df[col].str.lower().str.strip()\n",
    "    return df"
   ]
  },
  {
   "cell_type": "markdown",
   "id": "f20079cb-4d3c-4568-bf23-afe0010e2571",
   "metadata": {},
   "source": [
    "# Preprocessing"
   ]
  },
  {
   "cell_type": "code",
   "execution_count": 6,
   "id": "65fac9da-d39f-4afd-be21-84987472270c",
   "metadata": {
    "tags": []
   },
   "outputs": [
    {
     "name": "stdout",
     "output_type": "stream",
     "text": [
      "Shape of Input # of Drugs:(15158, 7)\n",
      "Shape of AHFS Drugs:(7068, 4)\n",
      "Shape of AHFS Trade Names:(10649, 3)\n",
      "Shape of AHFS Class SCDF:(12688, 4)\n"
     ]
    }
   ],
   "source": [
    "# Convert drug names that need to use as merge key to lower case\n",
    "df_med = my_lower(input_data, 'DrugName').dropna()\n",
    "print(f'Shape of Input # of Drugs:{df_med.shape}')\n",
    "\n",
    "df_ahfs_drug = my_lower(input_ahfs_drug, 'GenDrugName')\n",
    "print(f'Shape of AHFS Drugs:{df_ahfs_drug.shape}')\n",
    "\n",
    "df_ahfs_trade_name = my_lower(input_ahfs_trade_name, 'Tradename')\n",
    "print(f'Shape of AHFS Trade Names:{df_ahfs_trade_name.shape}')\n",
    "\n",
    "df_ahfs_class_scdf = my_lower(input_ahfs_scdf, 'AHFSClassText')\n",
    "print(f'Shape of AHFS Class SCDF:{df_ahfs_class_scdf.shape}')"
   ]
  },
  {
   "cell_type": "markdown",
   "id": "20312152-e1da-4b5f-a1d4-80ca88bf64ed",
   "metadata": {
    "tags": []
   },
   "source": [
    "# Match DER output to AHFSDrugs"
   ]
  },
  {
   "cell_type": "code",
   "execution_count": 8,
   "id": "1f8aee5a-9553-4b9b-a21e-d71d891dc99c",
   "metadata": {
    "tags": []
   },
   "outputs": [
    {
     "data": {
      "text/plain": [
       "DrugName    552\n",
       "dtype: int64"
      ]
     },
     "execution_count": 8,
     "metadata": {},
     "output_type": "execute_result"
    }
   ],
   "source": [
    "input_data[['DrugName']].nunique()"
   ]
  },
  {
   "cell_type": "code",
   "execution_count": 9,
   "id": "26ccbb7c-9a04-4d0a-9059-d5a3d682d210",
   "metadata": {
    "tags": []
   },
   "outputs": [
    {
     "data": {
      "text/plain": [
       "(16961, 7)"
      ]
     },
     "execution_count": 9,
     "metadata": {},
     "output_type": "execute_result"
    }
   ],
   "source": [
    "input_data[['map_id', 'otdate', 'Source', 'Number', 'MedName', 'DrugName', 'DrugbankId']].drop_duplicates().shape"
   ]
  },
  {
   "cell_type": "code",
   "execution_count": 10,
   "id": "1fa3dcae-3458-4873-a594-1e60ad10a9cd",
   "metadata": {
    "tags": []
   },
   "outputs": [
    {
     "data": {
      "text/plain": [
       "(27050, 11)"
      ]
     },
     "execution_count": 10,
     "metadata": {},
     "output_type": "execute_result"
    }
   ],
   "source": [
    "# Left join 'DrugName' to tblAHFSDrugs\n",
    "df_med_ahfs_drug = pd.merge(df_med, df_ahfs_drug, \n",
    "                            left_on='DrugName', \n",
    "                            right_on='GenDrugName', \n",
    "                            how='left').drop_duplicates()\n",
    "df_med_ahfs_drug.shape"
   ]
  },
  {
   "cell_type": "code",
   "execution_count": 11,
   "id": "edfba148-8057-430f-a719-817f502ddf9c",
   "metadata": {
    "tags": []
   },
   "outputs": [
    {
     "data": {
      "text/plain": [
       "(15158, 7)"
      ]
     },
     "execution_count": 11,
     "metadata": {},
     "output_type": "execute_result"
    }
   ],
   "source": [
    "# Sanity check\n",
    "check_N_df_med_ahfs_drug = df_med_ahfs_drug[['map_id', 'otdate', 'Source', 'Number', 'MedName', 'DrugName', 'DrugbankId']].drop_duplicates()\n",
    "check_N_df_med_ahfs_drug.shape"
   ]
  },
  {
   "cell_type": "code",
   "execution_count": 12,
   "id": "948ba8a1-dea1-4236-a0ac-2a0e9107fb52",
   "metadata": {
    "tags": []
   },
   "outputs": [
    {
     "name": "stdout",
     "output_type": "stream",
     "text": [
      "Shape of matched_ahfs_drug: (26224, 11)\n"
     ]
    }
   ],
   "source": [
    "# Matched Drugs\n",
    "matched_ahfs_drug = df_med_ahfs_drug.dropna()\n",
    "print(f'Shape of matched_ahfs_drug: {matched_ahfs_drug.shape}')"
   ]
  },
  {
   "cell_type": "code",
   "execution_count": 13,
   "id": "874c0678-075b-4b14-b5ac-b669583f3ce2",
   "metadata": {
    "tags": []
   },
   "outputs": [
    {
     "data": {
      "text/plain": [
       "GenDrugName    389\n",
       "dtype: int64"
      ]
     },
     "execution_count": 13,
     "metadata": {},
     "output_type": "execute_result"
    }
   ],
   "source": [
    "df_med_ahfs_drug[['GenDrugName']].nunique()"
   ]
  },
  {
   "cell_type": "code",
   "execution_count": 14,
   "id": "4965eb1e-1ebf-457a-87dc-285d09244474",
   "metadata": {
    "tags": []
   },
   "outputs": [
    {
     "name": "stdout",
     "output_type": "stream",
     "text": [
      "Shape of no_match_ahfs_drug: (826, 11)\n",
      "Number of unique DrugName: 88\n"
     ]
    }
   ],
   "source": [
    "# No matched Drugs\n",
    "no_match_ahfs_drug = df_med_ahfs_drug[df_med_ahfs_drug.isna().any(axis=1)]\n",
    "print(f'Shape of no_match_ahfs_drug: {no_match_ahfs_drug.shape}')\n",
    "print(f'Number of unique DrugName: {no_match_ahfs_drug['DrugName'].nunique()}')"
   ]
  },
  {
   "cell_type": "markdown",
   "id": "a84c18f6-5a0b-4757-90f1-d88842a02791",
   "metadata": {
    "tags": []
   },
   "source": [
    "# Match DER output to AHFS Trade name"
   ]
  },
  {
   "cell_type": "code",
   "execution_count": 16,
   "id": "c8ed8f8c-f927-4a55-bc0e-567c4d20af93",
   "metadata": {
    "tags": []
   },
   "outputs": [
    {
     "name": "stdout",
     "output_type": "stream",
     "text": [
      "shape of df_med_ahfs_drug_tradename: (829, 14)\n"
     ]
    },
    {
     "data": {
      "text/plain": [
       "map_id           0\n",
       "otdate           0\n",
       "Source           0\n",
       "Number           0\n",
       "MedName          0\n",
       "DrugName         0\n",
       "DrugbankId       0\n",
       "GenDrugName    829\n",
       "UN_x           551\n",
       "AHFSClassID    829\n",
       "PrintClass     829\n",
       "UN_y           551\n",
       "Tradename      551\n",
       "Type           551\n",
       "dtype: int64"
      ]
     },
     "execution_count": 16,
     "metadata": {},
     "output_type": "execute_result"
    }
   ],
   "source": [
    "# Left join 'DrugName' to tblAHFSTradeName \n",
    "df_med_ahfs_drug_tradename = pd.merge(\n",
    "    no_match_ahfs_drug,\n",
    "    df_ahfs_trade_name,\n",
    "    left_on=\"DrugName\",\n",
    "    right_on=\"Tradename\",\n",
    "    how=\"left\").drop_duplicates()\n",
    "print(f'shape of df_med_ahfs_drug_tradename: {df_med_ahfs_drug_tradename.shape}')\n",
    "\n",
    "# Fill missing 'UN' with matched tradename 'UN'\n",
    "df_med_ahfs_drug_tradename['UN_x'] = df_med_ahfs_drug_tradename['UN_x'].fillna(df_med_ahfs_drug_tradename['UN_y'])\n",
    "\n",
    "# Check the missing value in df_med_ahfs_drug_tradename\n",
    "df_med_ahfs_drug_tradename.isna().sum()"
   ]
  },
  {
   "cell_type": "code",
   "execution_count": 18,
   "id": "26ecc0ff-388e-4b71-bc56-d5e18455d262",
   "metadata": {
    "tags": []
   },
   "outputs": [
    {
     "name": "stdout",
     "output_type": "stream",
     "text": [
      "Shape of matched_ahfs_trade_name: (278, 14)\n"
     ]
    }
   ],
   "source": [
    "# Matched Drugs\n",
    "matched_ahfs_trade_name = df_med_ahfs_drug_tradename.dropna(subset=['UN_x'])\n",
    "print(f'Shape of matched_ahfs_trade_name: {matched_ahfs_trade_name.shape}')"
   ]
  },
  {
   "cell_type": "code",
   "execution_count": 19,
   "id": "113cb9b4-f7ea-4b46-b7b5-c85dc738fd9a",
   "metadata": {
    "tags": []
   },
   "outputs": [
    {
     "name": "stdout",
     "output_type": "stream",
     "text": [
      "Number of unique drugs in matched_ahfs_trade_name: 31\n"
     ]
    }
   ],
   "source": [
    "print(f'Number of unique drugs in matched_ahfs_trade_name: {matched_ahfs_trade_name['DrugName'].nunique()}')"
   ]
  },
  {
   "cell_type": "code",
   "execution_count": 20,
   "id": "2e4a9b3d-347e-4dab-a653-b8c2fdf0d3f8",
   "metadata": {
    "tags": []
   },
   "outputs": [
    {
     "name": "stdout",
     "output_type": "stream",
     "text": [
      "Shape of no_match_trade_name: (551, 14)\n",
      "Number of unique drugs in no_match_trade_name: 57\n"
     ]
    }
   ],
   "source": [
    "# Extract no match with trade names\n",
    "no_match_trade_name = df_med_ahfs_drug_tradename[df_med_ahfs_drug_tradename['UN_x'].isna()]\n",
    "print(f'Shape of no_match_trade_name: {no_match_trade_name.shape}')\n",
    "print(f'Number of unique drugs in no_match_trade_name: {no_match_trade_name['DrugName'].nunique()}')"
   ]
  },
  {
   "cell_type": "markdown",
   "id": "6e857e6c-1fdc-4013-b319-3903ca67df5c",
   "metadata": {
    "tags": [],
    "toc-hr-collapsed": true
   },
   "source": [
    "# Fuzzy Match using theFuzz package"
   ]
  },
  {
   "cell_type": "code",
   "execution_count": 21,
   "id": "52e6a934-001f-4cc1-8b89-d5973dc80594",
   "metadata": {
    "tags": []
   },
   "outputs": [
    {
     "name": "stdout",
     "output_type": "stream",
     "text": [
      "CPU times: user 30.5 s, sys: 0 ns, total: 30.5 s\n",
      "Wall time: 30.7 s\n"
     ]
    }
   ],
   "source": [
    "%%time\n",
    "# Extract one best match SCDF_STR to RedCapMedName\n",
    "best_drug = lambda x: process.extractOne(x, df_ahfs_class_scdf[\"SCDF_STR\"])\n",
    "no_match_trade_name = no_match_trade_name.copy()\n",
    "\n",
    "# Store the full tuple\n",
    "no_match_trade_name[\"MatchTuple\"] = no_match_trade_name[\"MedName\"].map(best_drug)\n",
    "\n",
    "# Extract the \"Best_Match\", \"Similarity_Score\", and \"Best_Match_Index\" from the full tuple\n",
    "no_match_trade_name[\"Best_Match\"] = no_match_trade_name[\"MatchTuple\"].apply(lambda x: x[0] if x else np.nan)\n",
    "no_match_trade_name[\"Similarity_Score\"] = no_match_trade_name[\"MatchTuple\"].apply(lambda x: x[1] if x else np.nan)\n",
    "no_match_trade_name[\"Best_Match_Index\"] = no_match_trade_name[\"MatchTuple\"].apply(lambda x: x[2] if x else np.nan)"
   ]
  },
  {
   "cell_type": "code",
   "execution_count": 22,
   "id": "a347cf51-e178-4e4e-8cc3-cbad7d69b808",
   "metadata": {
    "tags": []
   },
   "outputs": [],
   "source": [
    "# We set the threshold 'Similarity_Score' to 86 because 50% of best drugs's 'Similarity_Score' are under 86. Also to reduce the human labor.\n",
    "tmp_Fuzz_matched_names = no_match_trade_name[no_match_trade_name[\"Similarity_Score\"] >= 90]"
   ]
  },
  {
   "cell_type": "code",
   "execution_count": 23,
   "id": "03d15190-a884-4fda-9d24-daa508348216",
   "metadata": {
    "tags": []
   },
   "outputs": [
    {
     "name": "stdout",
     "output_type": "stream",
     "text": [
      "Shape of Fuzz_matched_names: (305, 13)\n"
     ]
    }
   ],
   "source": [
    "# Left merge df_ahfs_class_scdf to tmp_Fuzz_matched_names for catching 'AHFSClassNum' and 'AHFSClassText'\n",
    "# Key: index\n",
    "Fuzz_matched_names = pd.merge(\n",
    "    tmp_Fuzz_matched_names[[\n",
    "        'map_id',\n",
    "        'otdate',\n",
    "        'Source',\n",
    "        'Number',\n",
    "        'MedName',\n",
    "        'DrugName',\n",
    "        'DrugbankId',\n",
    "        'Best_Match',\n",
    "        'Similarity_Score',\n",
    "        'Best_Match_Index']],\n",
    "    df_ahfs_class_scdf[[\n",
    "        'SCDF_CUI',\n",
    "        'AHFSClassNum',\n",
    "        'AHFSClassText']],\n",
    "    left_on='Best_Match_Index',\n",
    "    right_index= True,\n",
    "    how='left')\n",
    "print(f'Shape of Fuzz_matched_names: {Fuzz_matched_names.shape}')"
   ]
  },
  {
   "cell_type": "code",
   "execution_count": null,
   "id": "233e9330-45ff-499e-8a03-4219d49239c4",
   "metadata": {
    "tags": []
   },
   "outputs": [],
   "source": [
    "Fuzz_matched_names['DrugName'].nunique()"
   ]
  },
  {
   "cell_type": "raw",
   "id": "4af1b14a-fb3c-45e0-8b16-7155474bb43b",
   "metadata": {
    "tags": []
   },
   "source": [
    "fp_sampled = datetime.date.today().strftime('%Y%m%d') + '_sample_data_greater_than_90.csv'\n",
    "sampled_data.to_csv(fp_cwd + fp_sampled, index=False)"
   ]
  },
  {
   "cell_type": "code",
   "execution_count": null,
   "id": "097ad6bb-9724-41e6-b3ff-0e995b024a1e",
   "metadata": {
    "tags": []
   },
   "outputs": [],
   "source": [
    "# No matched after theFuzz matching (those Similarity_Score < 90)\n",
    "Fuzz_no_matched_names = no_match_trade_name[no_match_trade_name[\"Similarity_Score\"] < 90]\n",
    "Fuzz_no_matched_names.shape"
   ]
  },
  {
   "cell_type": "code",
   "execution_count": null,
   "id": "b7f7fb67-fcd3-45e3-a0f7-0cf2f874757b",
   "metadata": {
    "tags": []
   },
   "outputs": [],
   "source": [
    "Fuzz_no_matched_names['DrugName'].nunique()"
   ]
  },
  {
   "cell_type": "markdown",
   "id": "ec6b369b-87e8-4b1a-9fbc-492eb0d7944f",
   "metadata": {
    "tags": []
   },
   "source": [
    "# \\*Drugs need Human Matching\n",
    "\n",
    "- if 'RedCapMedName' is Vitmains/Supplements/OTCs: highlight and remove them\n",
    "- if 'Best_Match' is not the correct name for 'RedCapMedName': identify them, and provide the correct 'SCDF_STR' from AHFS_SCDF.csv"
   ]
  },
  {
   "cell_type": "code",
   "execution_count": null,
   "id": "0e60e563-3ac3-4cf6-86b3-6042cd64434a",
   "metadata": {
    "tags": []
   },
   "outputs": [],
   "source": [
    "# Export to human matching\n",
    "fp_no_matched = datetime.date.today().strftime('%Y%m%d') + '_Fuzz_no_matched_names.csv'\n",
    "Fuzz_no_matched_names.to_csv(fp_cwd + fp_no_matched, index=False)"
   ]
  },
  {
   "cell_type": "markdown",
   "id": "bd63f458-3bf6-4d8e-adcb-5d8e8c31d119",
   "metadata": {
    "toc-hr-collapsed": true
   },
   "source": [
    "## Import the human matched Fuzz_no_matched_names"
   ]
  },
  {
   "cell_type": "code",
   "execution_count": null,
   "id": "354970ce-8377-458e-b4c0-6bd5a97d5962",
   "metadata": {
    "tags": []
   },
   "outputs": [],
   "source": [
    "df_human = pd.read_csv(fp_cwd + \"Human_Matched_Fuzz_no_matched_names0212.csv\", low_memory=False)"
   ]
  },
  {
   "cell_type": "code",
   "execution_count": null,
   "id": "f342ce7d-088f-4eb2-9129-114768cf5671",
   "metadata": {
    "tags": []
   },
   "outputs": [],
   "source": [
    "# Exclude vitamins/supplements/otc drugs\n",
    "tmp_df_human = df_human[df_human['Vit_Sup_OTC'] == 0].copy()\n",
    "\n",
    "# Adjust formatting for ADRC & ARCHES/DRIVES\n",
    "tmp_df_human = tmp_df_human.rename(columns={'RedCapMedName' : 'MedName'})\n",
    "\n",
    "# Add 'otdate' and 'Source\n",
    "fp_med_checkpoint = datetime.date.today().strftime('%Y%m%d') + '_CHECKPOINT_all_ADRC_ARCHES_DRIVES_meds.csv'\n",
    "df_med = pd.read_csv(fp_cwd + fp_med_checkpoint, low_memory=False)\n",
    "tmp_df_human = tmp_df_human.merge(\n",
    "    df_med,\n",
    "    how='left',\n",
    "    on=['map_id', 'Number', 'MedName'])\n",
    "tmp_df_human = tmp_df_human.drop(columns=['redcap_event_name'])\n",
    "\n",
    "tmp_df_human.shape"
   ]
  },
  {
   "cell_type": "code",
   "execution_count": null,
   "id": "8b5d7ded-7356-4b6b-b7b7-739d68be8fc7",
   "metadata": {
    "tags": []
   },
   "outputs": [],
   "source": [
    "# Use human matched 'SCDF_STR' to replace wrong 'Best_Match', keeping the 'Best_Match' if no human annotation\n",
    "tmp_df_human['Best_Match'] = tmp_df_human['SCDF_STR'].combine_first(tmp_df_human['Best_Match'])"
   ]
  },
  {
   "cell_type": "code",
   "execution_count": null,
   "id": "1c064430-14b0-4ef8-b9a2-b1f3028e331f",
   "metadata": {
    "tags": []
   },
   "outputs": [],
   "source": [
    "# Left merge to extract 'AHFSClassNum' and 'AHFSText'\n",
    "merged_human_match = pd.merge(\n",
    "    tmp_df_human,\n",
    "    df_ahfs_class_scdf,\n",
    "    left_on='Best_Match',\n",
    "    right_on='SCDF_STR',\n",
    "    how='left')"
   ]
  },
  {
   "cell_type": "code",
   "execution_count": null,
   "id": "ad3bb01e-d794-47f3-8f3a-eafce7e3011d",
   "metadata": {
    "tags": []
   },
   "outputs": [],
   "source": [
    "# Only contains needed variables in the final matched_Fuzz_no_match_names \n",
    "matched_Fuzz_no_match_names = merged_human_match[[\n",
    "    'map_id',\n",
    "    #'redcap_event_name',\n",
    "    'otdate',\n",
    "    'Source',\n",
    "    'Number',\n",
    "    #'RedCapMedName',\n",
    "    'MedName',\n",
    "    'DrugName',\n",
    "    'SCDF_CUI',\n",
    "    'Best_Match',\n",
    "    'AHFSClassNum',\n",
    "    'AHFSClassText']]"
   ]
  },
  {
   "cell_type": "markdown",
   "id": "9b8d487f-5abc-4f33-9760-05fde66ed8d4",
   "metadata": {
    "tags": []
   },
   "source": [
    "# Match with UN"
   ]
  },
  {
   "cell_type": "markdown",
   "id": "30124fa7-2f67-4ceb-9b26-6ecd53a0caa8",
   "metadata": {},
   "source": [
    "## 1. matched_ahfs_drug_class"
   ]
  },
  {
   "cell_type": "code",
   "execution_count": null,
   "id": "fcf3e2a3-f549-4efb-b6ab-8ab77aba9299",
   "metadata": {
    "tags": []
   },
   "outputs": [],
   "source": [
    "matched_ahfs_drug_class = pd.merge(\n",
    "    matched_ahfs_drug,\n",
    "    input_ahfs_class[[\n",
    "        'AHFSClassID',\n",
    "        'AHFSClassNum',\n",
    "        'AHFSClassText',\n",
    "        'AHFSRetired']].drop_duplicates(),\n",
    "    on='AHFSClassID',\n",
    "    how='left')\n",
    "matched_ahfs_drug_class.shape"
   ]
  },
  {
   "cell_type": "code",
   "execution_count": null,
   "id": "35636f07-a79c-4350-a105-e7c169a1b0e5",
   "metadata": {
    "tags": []
   },
   "outputs": [],
   "source": [
    "# Check the NAs, ask DrugBank why the keys are missing\n",
    "check = matched_ahfs_drug_class[matched_ahfs_drug_class['AHFSClassText'].isna()]\n",
    "check['DrugName'].value_counts()"
   ]
  },
  {
   "cell_type": "markdown",
   "id": "f0df3027-5b74-40e3-b8e8-bcb5609ad467",
   "metadata": {
    "tags": []
   },
   "source": [
    "## 2. matched_ahfs_trade_name_class"
   ]
  },
  {
   "cell_type": "code",
   "execution_count": null,
   "id": "4cb45e9a-8470-4799-9eeb-26656b4f7f01",
   "metadata": {
    "tags": []
   },
   "outputs": [],
   "source": [
    "# Remove unneeded columns and rename UN\n",
    "matched_ahfs_trade_name = matched_ahfs_trade_name.drop(columns=['GenDrugName', 'AHFSClassID', 'UN_y','PrintClass']).rename(columns={'UN_x':'UN'})\n",
    "matched_ahfs_trade_name.shape"
   ]
  },
  {
   "cell_type": "code",
   "execution_count": null,
   "id": "d17ba9c5-b01c-4ab4-8c5a-b554ac417579",
   "metadata": {
    "tags": []
   },
   "outputs": [],
   "source": [
    "# Left merge 'AHFSClassNum', 'AHFSClassText' to matched_ahfs_trade_name\n",
    "merged_matched_ahfs_trade_name = pd.merge(\n",
    "    matched_ahfs_trade_name,\n",
    "    input_ahfs_drug[['UN', 'AHFSClassID']].drop_duplicates(),\n",
    "    on='UN',\n",
    "    how='left')\n",
    "merged_matched_ahfs_trade_name.head()"
   ]
  },
  {
   "cell_type": "code",
   "execution_count": null,
   "id": "f5bc31e0-7896-4d27-a73c-2dfccf78c8ae",
   "metadata": {
    "tags": []
   },
   "outputs": [],
   "source": [
    "# Left merge 'AHFSClassID', 'AHFSClassNum', 'AHFSClassText' to merged_matched_ahfs_trade_name\n",
    "matched_ahfs_trade_name_class = pd.merge(\n",
    "    merged_matched_ahfs_trade_name,\n",
    "    input_ahfs_class[[\n",
    "        'AHFSClassID',\n",
    "        'AHFSClassNum',\n",
    "        'AHFSClassText',\n",
    "        'AHFSRetired']].drop_duplicates(),\n",
    "    on='AHFSClassID',\n",
    "    how='left') \n",
    "matched_ahfs_trade_name_class.shape"
   ]
  },
  {
   "cell_type": "code",
   "execution_count": null,
   "id": "6d2b5a65-59a9-4bcc-bc4b-bb0b9f1a2403",
   "metadata": {
    "tags": []
   },
   "outputs": [],
   "source": [
    "# Missing AHFS class number\n",
    "matched_ahfs_trade_name_class [matched_ahfs_trade_name_class['AHFSClassNum'].isna()]"
   ]
  },
  {
   "cell_type": "code",
   "execution_count": null,
   "id": "dbad88a8-428c-4756-8574-d4abe90376f9",
   "metadata": {
    "tags": []
   },
   "outputs": [],
   "source": [
    "matched_ahfs_drug_class.isna().sum()"
   ]
  },
  {
   "cell_type": "code",
   "execution_count": null,
   "id": "f7304b08-c0c6-4c01-8601-0775c6f65b99",
   "metadata": {
    "tags": []
   },
   "outputs": [],
   "source": [
    "matched_ahfs_trade_name_class.isna().sum()"
   ]
  },
  {
   "cell_type": "markdown",
   "id": "2d784aa2-7734-43ad-ab13-b9e8bd899a8b",
   "metadata": {},
   "source": [
    "## Merge all matched names"
   ]
  },
  {
   "cell_type": "code",
   "execution_count": null,
   "id": "1d5a2463-7b9e-4e22-90e3-86e8f552615c",
   "metadata": {
    "tags": []
   },
   "outputs": [],
   "source": [
    "tmp_full_matched_name = pd.concat([\n",
    "    matched_ahfs_drug_class, # Missing: 0 AHFSClassID; 136 AHFSClassNum\n",
    "    matched_ahfs_trade_name_class,\n",
    "    Fuzz_matched_names,\n",
    "    matched_Fuzz_no_match_names]).drop_duplicates().reset_index(drop=True)\n",
    "\n",
    "tmp_full_matched_name.shape"
   ]
  },
  {
   "cell_type": "code",
   "execution_count": null,
   "id": "b04e5196-5ba1-4bad-a76b-1696503fdaa9",
   "metadata": {
    "tags": []
   },
   "outputs": [],
   "source": [
    "# Create a new column to store the mapped names from \n",
    "tmp_full_matched_name['mapped_name'] = (\n",
    "    tmp_full_matched_name['GenDrugName']\n",
    "    .fillna(tmp_full_matched_name['Tradename'])\n",
    "    .fillna(tmp_full_matched_name['Best_Match'])\n",
    ")"
   ]
  },
  {
   "cell_type": "code",
   "execution_count": null,
   "id": "1152e619-1abd-430c-ad02-54f3027b96d7",
   "metadata": {
    "tags": []
   },
   "outputs": [],
   "source": [
    "print(f'Unique classes of med names: {tmp_full_matched_name['AHFSClassText'].nunique()}')"
   ]
  },
  {
   "cell_type": "markdown",
   "id": "2aee5029-5d54-4710-8e02-529e6bffabf5",
   "metadata": {
    "toc-hr-collapsed": true
   },
   "source": [
    "## Merge all matched names to class extend"
   ]
  },
  {
   "cell_type": "code",
   "execution_count": null,
   "id": "2144219c-d583-4562-80ce-980bde9153f3",
   "metadata": {
    "tags": []
   },
   "outputs": [],
   "source": [
    "tmp_full_matched_name_extend = pd.merge(\n",
    "    tmp_full_matched_name,\n",
    "    class_extend,\n",
    "    on='AHFSClassNum',\n",
    "    how='left')"
   ]
  },
  {
   "cell_type": "code",
   "execution_count": null,
   "id": "55cb9777-b5a6-45bf-8304-b2bece953c88",
   "metadata": {
    "tags": []
   },
   "outputs": [],
   "source": [
    "full_matched_name_extend = tmp_full_matched_name_extend[[\n",
    "    'map_id',\n",
    "    'otdate',\n",
    "    'Source',\n",
    "    'Number',\n",
    "    'MedName',\n",
    "    'mapped_name',\n",
    "    'AHFSClassNum',\n",
    "    'AHFSClassText',\n",
    "    'AHFSClassText_1',\n",
    "    'AHFSClassText_2',\n",
    "    'AHFSClassText_3',\n",
    "    'AHFSClassText_4']]\n",
    "full_matched_name_extend.shape"
   ]
  },
  {
   "cell_type": "code",
   "execution_count": null,
   "id": "126dad6c-079d-434f-b224-22501dad77cb",
   "metadata": {
    "tags": []
   },
   "outputs": [],
   "source": [
    "mapped_classes = full_matched_name_extend[['AHFSClassText']].drop_duplicates().reset_index(drop=True).dropna()"
   ]
  },
  {
   "cell_type": "code",
   "execution_count": null,
   "id": "ee15c9f9-4102-49ef-af96-395234d02c94",
   "metadata": {
    "tags": []
   },
   "outputs": [],
   "source": [
    "# Remove those with following Vitamins, Supplements, and OTCs\n",
    "full_matched_name_extend = full_matched_name_extend[~full_matched_name_extend['MedName'].str.contains(\n",
    "    r'CoQ-10|melatonin|biotin|Milk|Lutein|Peppermint oil|Red Yeast Rice|Levemir Flex Pen|'\n",
    "    r'Fiasp Flex Touch Injection|ENERGIZE|Oil|B-12|softener|Colace|Docusate|Q10|Enzyme|'\n",
    "    r'Glucosamine|wax|Hydroxocobalamin|Zinc sulfate|Chondroitin sulfates|hyaluronate|'\n",
    "    r'methylsulfonylmethane|Lactobacillus acidophilus|Melatonin / tryptophan|L-glutamine|lecithin|phenazopyridine|arginine Extended Release Oral Tablet',\n",
    "    case=False, na=False\n",
    ")].drop_duplicates()"
   ]
  },
  {
   "cell_type": "code",
   "execution_count": null,
   "id": "710cb5a5-ab73-495d-b881-cd41703769c7",
   "metadata": {
    "tags": []
   },
   "outputs": [],
   "source": [
    "fp_full_matched_extend = datetime.date.today().strftime('%Y%m%d') + '_full_matched_name_extend.csv'\n",
    "full_matched_name_extend.to_csv(fp_cwd + fp_full_matched_extend, index=False)"
   ]
  },
  {
   "cell_type": "code",
   "execution_count": null,
   "id": "294643fb-f377-4ac0-a948-ae572a1846b4",
   "metadata": {
    "tags": []
   },
   "outputs": [],
   "source": [
    "# Sanity check\n",
    "full_matched_name_extend ['mapped_name'].nunique()"
   ]
  },
  {
   "cell_type": "markdown",
   "id": "96a17df8-b3f3-4795-b120-498668aff4e9",
   "metadata": {},
   "source": [
    "# Total Execution Time"
   ]
  },
  {
   "cell_type": "code",
   "execution_count": null,
   "id": "002b535b-b79b-44e7-831e-99cce6759a40",
   "metadata": {
    "tags": []
   },
   "outputs": [],
   "source": [
    "analysis_end = timer()\n",
    "print(datetime.timedelta(seconds=(analysis_end - analysis_start)))"
   ]
  }
 ],
 "metadata": {
  "kernelspec": {
   "display_name": "Python 3 (ipykernel)",
   "language": "python",
   "name": "python3"
  },
  "language_info": {
   "codemirror_mode": {
    "name": "ipython",
    "version": 3
   },
   "file_extension": ".py",
   "mimetype": "text/x-python",
   "name": "python",
   "nbconvert_exporter": "python",
   "pygments_lexer": "ipython3",
   "version": "3.12.7"
  }
 },
 "nbformat": 4,
 "nbformat_minor": 5
}
